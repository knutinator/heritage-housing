{
  "cells": [
    {
      "source": [
        "# Data Collection & initial cleaning Notebook"
      ],
      "cell_type": "markdown",
      "metadata": {
        "id": "0aStgWSO0E0E"
      }
    },
    {
      "cell_type": "markdown",
      "metadata": {
        "id": "1eLEkw5O0ECa"
      },
      "source": [
        "## Objectives\n",
        "\n",
        "* Fetch data from Kaggle and save it as raw data\n",
        "* Inspect the data and save it under outputs/datasets/collection\n",
        "* Perform data cleaning based on initial inspection\n",
        "\n",
        "## Inputs\n",
        "\n",
        "*   kaggle.JSON file - authentication token to access Kaggle dataset\n",
        "\n",
        "## Outputs\n",
        "\n",
        "* Generate Dataset: - 'outputs/datasets/collection/house_prices_records.csv'\n"
      ]
    },
    {
      "cell_type": "markdown",
      "metadata": {
        "id": "9uWZXH9LwoQg"
      },
      "source": [
        "---"
      ]
    },
    {
      "cell_type": "markdown",
      "metadata": {
        "id": "cqP-UeN-z3i2"
      },
      "source": [
        "# Change working directory"
      ]
    },
    {
      "cell_type": "markdown",
      "metadata": {
        "id": "aOGIGS-uz3i2"
      },
      "source": [
        "We need to change the working directory from its current folder to its parent folder\n",
        "* We access the current directory with os.getcwd()"
      ]
    },
    {
      "cell_type": "code",
      "execution_count": 1,
      "metadata": {
        "id": "wZfF_j-Bz3i4",
        "outputId": "66943449-1436-4c3d-85c7-b85f9f78349b"
      },
      "outputs": [
        {
          "output_type": "execute_result",
          "data": {
            "text/plain": "'/workspaces/heritage-housing/jupyter_notebooks'"
          },
          "metadata": {},
          "execution_count": 1
        }
      ],
      "source": [
        "import os\n",
        "current_dir = os.getcwd()\n",
        "current_dir"
      ]
    },
    {
      "source": [
        "We want to make the parent of the current directory the new current directory.\n",
        "* os.path.dirname() gets the parent directory\n",
        "* os.chir() defines the new current directory"
      ],
      "cell_type": "markdown",
      "metadata": {}
    },
    {
      "cell_type": "code",
      "execution_count": 2,
      "metadata": {
        "tags": []
      },
      "outputs": [
        {
          "output_type": "stream",
          "name": "stdout",
          "text": "You set a new current directory\n"
        }
      ],
      "source": [
        "os.chdir(os.path.dirname(current_dir))\n",
        "print(\"You set a new current directory\")"
      ]
    },
    {
      "source": [
        "\n",
        "\n",
        "Confirm the new current directory"
      ],
      "cell_type": "markdown",
      "metadata": {}
    },
    {
      "cell_type": "code",
      "execution_count": 3,
      "metadata": {},
      "outputs": [
        {
          "output_type": "execute_result",
          "data": {
            "text/plain": "'/workspaces/heritage-housing'"
          },
          "metadata": {},
          "execution_count": 3
        }
      ],
      "source": [
        "current_dir = os.getcwd()\n",
        "current_dir"
      ]
    },
    {
      "source": [
        "----------\n"
      ],
      "cell_type": "markdown",
      "metadata": {}
    },
    {
      "source": [
        "# Install python packages in the notebooks"
      ],
      "cell_type": "markdown",
      "metadata": {}
    },
    {
      "cell_type": "code",
      "execution_count": null,
      "metadata": {
        "tags": []
      },
      "outputs": [],
      "source": [
        "%pip install -r /workspaces/heritage-housing/requirements.txt"
      ]
    },
    {
      "source": [
        "-------"
      ],
      "cell_type": "markdown",
      "metadata": {}
    },
    {
      "source": [
        "# Fetch data from Kaggle"
      ],
      "cell_type": "markdown",
      "metadata": {}
    },
    {
      "cell_type": "code",
      "execution_count": null,
      "metadata": {
        "tags": []
      },
      "outputs": [],
      "source": [
        "!pip install --user kaggle"
      ]
    },
    {
      "cell_type": "code",
      "execution_count": null,
      "metadata": {
        "tags": []
      },
      "outputs": [],
      "source": [
        "import os\n",
        "os.environ['KAGGLE_CONFIG_DIR'] = os.getcwd()\n",
        " chmod 600 kaggle.json"
      ]
    },
    {
      "cell_type": "code",
      "execution_count": null,
      "metadata": {
        "tags": []
      },
      "outputs": [],
      "source": [
        "KaggleDatasetPath = \"codeinstitute/housing-prices-data\"\n",
        "DestinationFolder = \"inputs/datasets/raw\"   \n",
        "! kaggle datasets download -d {KaggleDatasetPath} -p {DestinationFolder}"
      ]
    },
    {
      "cell_type": "code",
      "execution_count": null,
      "metadata": {
        "tags": []
      },
      "outputs": [],
      "source": [
        "! unzip {DestinationFolder}/*.zip -d {DestinationFolder} \\\n",
        "  && rm {DestinationFolder}/*.zip \\\n",
        "  && rm kaggle.json"
      ]
    },
    {
      "source": [
        "-------"
      ],
      "cell_type": "markdown",
      "metadata": {}
    },
    {
      "source": [
        "# Load and Inspect Kaggle data"
      ],
      "cell_type": "markdown",
      "metadata": {}
    },
    {
      "source": [
        "Create a DataFrame and store the imported data"
      ],
      "cell_type": "markdown",
      "metadata": {}
    },
    {
      "cell_type": "code",
      "execution_count": null,
      "metadata": {},
      "outputs": [],
      "source": [
        "import pandas as pd\n",
        "import numpy as np\n",
        "df = pd.read_csv(f\"inputs/datasets/raw/house-price-20211124T154130Z-001/house-price/house_prices_records.csv\")\n",
        "pd.set_option('display.max_columns', None)\n",
        "df.head(20)"
      ]
    },
    {
      "cell_type": "code",
      "execution_count": null,
      "metadata": {
        "tags": []
      },
      "outputs": [],
      "source": [
        "df.info()"
      ]
    },
    {
      "source": [
        "## Data Cleaning"
      ],
      "cell_type": "markdown",
      "metadata": {}
    },
    {
      "source": [
        "Based on an initial inspection, the following cleaning and transformation actions would make the data more cohesive, making further analysis easier:\n",
        "\n",
        "- convert all floats to ints  `# there are no decimal numbers anyway`\n",
        "- replace NaN values in GarageFinish with None  `# \"No Garage\" should only be represented as \"None\"`\n",
        "- replace NaN values in BsmtFinType1 with None  `# \"No Basement\" should only be represented as \"None\"`\n"
      ],
      "cell_type": "markdown",
      "metadata": {}
    },
    {
      "cell_type": "code",
      "execution_count": null,
      "metadata": {},
      "outputs": [],
      "source": [
        "# select only number columns with float data type\n",
        "number_cols = df.select_dtypes(include=['float']).columns\n",
        "\n",
        "# convert float values to ints\n",
        "df[number_cols] = df[number_cols].astype(int)\n",
        "\n",
        "# replace 'NaN' values in 'GarageFinish' with 'None'\n",
        "df['GarageFinish'] = df['GarageFinish'].replace('NaN', 'None')\n",
        "\n",
        "# replace 'NaN' values in 'BsmtFinType1' with 'None'\n",
        "df['BsmtFinType1'] = df['BsmtFinType1'].replace('NaN', 'None')\n"
      ]
    },
    {
      "source": [
        "-----"
      ],
      "cell_type": "markdown",
      "metadata": {}
    },
    {
      "source": [
        "## Inherited Houses Data"
      ],
      "cell_type": "markdown",
      "metadata": {}
    },
    {
      "cell_type": "code",
      "execution_count": null,
      "metadata": {},
      "outputs": [],
      "source": [
        "import pandas as pd\n",
        "df2 = pd.read_csv(f\"inputs/datasets/raw/house-price-20211124T154130Z-001/house-price/inherited_houses.csv\")\n",
        "pd.set_option('display.max_columns', None)\n",
        "df2.head()\n"
      ]
    },
    {
      "source": [
        "## Data cleaning"
      ],
      "cell_type": "markdown",
      "metadata": {}
    },
    {
      "source": [
        "the following changes makes both datasets have the same format, making them more easily comparable:\n",
        "\n",
        "- convert all float values to ints  `# there are no decimal numbers anyway`\n",
        "- add missing column 'YearRemodAdd', fill with 'YearBuilt' value `# fills out missing data`"
      ],
      "cell_type": "markdown",
      "metadata": {}
    },
    {
      "cell_type": "code",
      "execution_count": null,
      "metadata": {},
      "outputs": [],
      "source": [
        "# select only number columns with float data type\n",
        "number_cols_2 = df2.select_dtypes(include=['float']).columns\n",
        "\n",
        "# convert float values to ints\n",
        "df2[number_cols_2] = df[number_cols_2].astype(int)\n",
        "\n",
        "# make a new column named 'YearRemodAdd' and fill it with the 'YearBuilt' values.\n",
        "df2['YearRemodAdd'] = df2['YearBuilt']"
      ]
    },
    {
      "cell_type": "markdown",
      "metadata": {},
      "source": [
        "---"
      ]
    },
    {
      "cell_type": "markdown",
      "metadata": {
        "id": "ltNetd085qHf"
      },
      "source": [
        "# Push files to Repo"
      ]
    },
    {
      "cell_type": "code",
      "execution_count": null,
      "metadata": {
        "id": "aKlnIozA4eQO",
        "outputId": "fd09bc1f-adb1-4511-f6ce-492a6af570c0",
        "tags": []
      },
      "outputs": [],
      "source": [
        "import os\n",
        "try:\n",
        "  os.makedirs(name='outputs/datasets/collection') # create outputs/datasets/collection folder\n",
        "except Exception as e:\n",
        "  print(e)\n",
        "\n",
        "df.to_csv(f\"outputs/datasets/collection/house_prices_records.csv\",index=False)\n",
        "df2.to_csv(f\"outputs/datasets/collection/inherited_houses.csv\",index=False)"
      ]
    }
  ],
  "metadata": {
    "accelerator": "GPU",
    "colab": {
      "name": "Data Practitioner Jupyter Notebook.ipynb",
      "provenance": [],
      "toc_visible": true
    },
    "interpreter": {
      "hash": "8b8334dab9339717f727a1deaf837b322d7a41c20d15cc86be99a8e69ceec8ce"
    },
    "kernelspec": {
      "display_name": "Python 3.8.12 64-bit ('3.8.12': pyenv)",
      "name": "python381264bit3812pyenvb9cb1d9bde2b40e988243ec48168ac55"
    },
    "language_info": {
      "codemirror_mode": {
        "name": "ipython",
        "version": 3
      },
      "file_extension": ".py",
      "mimetype": "text/x-python",
      "name": "python",
      "nbconvert_exporter": "python",
      "pygments_lexer": "ipython3",
      "version": "3.8.12-final"
    },
    "orig_nbformat": 2
  },
  "nbformat": 4,
  "nbformat_minor": 2
}