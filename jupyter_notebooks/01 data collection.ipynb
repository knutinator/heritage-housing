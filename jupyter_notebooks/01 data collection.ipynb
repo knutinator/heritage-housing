{
  "cells": [
    {
      "cell_type": "markdown",
      "metadata": {
        "id": "0aStgWSO0E0E"
      },
      "source": [
        "# **(Data Collection)**"
      ]
    },
    {
      "cell_type": "markdown",
      "metadata": {
        "id": "1eLEkw5O0ECa"
      },
      "source": [
        "## Objectives\n",
        "\n",
        "* Fetch data from Kaggle and save it as raw data.\n",
        "* Inspect the data and save it under outputs/datasets/collection\n",
        "\n",
        "## Inputs\n",
        "\n",
        "*   Kaggle JSON file - the authentication token.\n",
        "\n",
        "## Outputs\n",
        "\n",
        "* Generate Dataset: - lokal sökväg här\n",
        "\n",
        "## Additional Comments\n"
      ]
    },
    {
      "cell_type": "markdown",
      "metadata": {
        "id": "9uWZXH9LwoQg"
      },
      "source": [
        "---"
      ]
    },
    {
      "cell_type": "markdown",
      "metadata": {
        "id": "cqP-UeN-z3i2"
      },
      "source": [
        "# Change working directory"
      ]
    },
    {
      "cell_type": "markdown",
      "metadata": {
        "id": "aOGIGS-uz3i2"
      },
      "source": [
        "We need to change the working directory from its current folder to its parent folder\n",
        "* We access the current directory with os.getcwd()"
      ]
    },
    {
      "cell_type": "code",
      "execution_count": 1,
      "metadata": {
        "id": "wZfF_j-Bz3i4",
        "outputId": "66943449-1436-4c3d-85c7-b85f9f78349b"
      },
      "outputs": [
        {
          "output_type": "execute_result",
          "data": {
            "text/plain": "'/workspaces/heritage-housing/jupyter_notebooks'"
          },
          "metadata": {},
          "execution_count": 1
        }
      ],
      "source": [
        "import os\n",
        "current_dir = os.getcwd()\n",
        "current_dir"
      ]
    },
    {
      "source": [
        "We want to make the parent of the current directory the new current directory.\n",
        "* os.path.dirname() gets the parent directory\n",
        "* os.chir() defines the new current directory"
      ],
      "cell_type": "markdown",
      "metadata": {}
    },
    {
      "cell_type": "code",
      "execution_count": 2,
      "metadata": {
        "tags": []
      },
      "outputs": [
        {
          "output_type": "stream",
          "name": "stdout",
          "text": "You set a new current directory\n"
        }
      ],
      "source": [
        "os.chdir(os.path.dirname(current_dir))\n",
        "print(\"You set a new current directory\")"
      ]
    },
    {
      "source": [
        "\n",
        "\n",
        "Confirm the new current directory"
      ],
      "cell_type": "markdown",
      "metadata": {}
    },
    {
      "cell_type": "code",
      "execution_count": 3,
      "metadata": {},
      "outputs": [
        {
          "output_type": "execute_result",
          "data": {
            "text/plain": "'/workspaces/heritage-housing'"
          },
          "metadata": {},
          "execution_count": 3
        }
      ],
      "source": [
        "current_dir = os.getcwd()\n",
        "current_dir"
      ]
    },
    {
      "source": [
        "----------\n"
      ],
      "cell_type": "markdown",
      "metadata": {}
    },
    {
      "source": [
        "# Install python packages in the notebooks"
      ],
      "cell_type": "markdown",
      "metadata": {}
    },
    {
      "cell_type": "code",
      "execution_count": 4,
      "metadata": {
        "tags": [
          "outputPrepend"
        ]
      },
      "outputs": [
        {
          "output_type": "stream",
          "name": "stdout",
          "text": "1.1 in /home/codeany/.pyenv/versions/3.8.12/lib/python3.8/site-packages (from -r /workspaces/heritage-housing/requirements.txt (line 16)) (3.1.1)\nRequirement already satisfied: MarkupSafe==2.0.1 in /home/codeany/.pyenv/versions/3.8.12/lib/python3.8/site-packages (from -r /workspaces/heritage-housing/requirements.txt (line 17)) (2.0.1)\nRequirement already satisfied: protobuf==3.20 in /home/codeany/.pyenv/versions/3.8.12/lib/python3.8/site-packages (from -r /workspaces/heritage-housing/requirements.txt (line 18)) (3.20.0)\nRequirement already satisfied: ipywidgets==8.0.2 in /home/codeany/.pyenv/versions/3.8.12/lib/python3.8/site-packages (from -r /workspaces/heritage-housing/requirements.txt (line 19)) (8.0.2)\nRequirement already satisfied: python-dateutil>=2.8.1 in /home/codeany/.pyenv/versions/3.8.12/lib/python3.8/site-packages (from pandas==1.4.2->-r /workspaces/heritage-housing/requirements.txt (line 2)) (2.8.2)\nRequirement already satisfied: pytz>=2020.1 in /home/codeany/.pyenv/versions/3.8.12/lib/python3.8/site-packages (from pandas==1.4.2->-r /workspaces/heritage-housing/requirements.txt (line 2)) (2023.3)\nRequirement already satisfied: certifi>=2020.06.20 in /home/codeany/.pyenv/versions/3.8.12/lib/python3.8/site-packages (from matplotlib==3.3.1->-r /workspaces/heritage-housing/requirements.txt (line 3)) (2023.5.7)\nRequirement already satisfied: cycler>=0.10 in /home/codeany/.pyenv/versions/3.8.12/lib/python3.8/site-packages (from matplotlib==3.3.1->-r /workspaces/heritage-housing/requirements.txt (line 3)) (0.11.0)\nRequirement already satisfied: kiwisolver>=1.0.1 in /home/codeany/.pyenv/versions/3.8.12/lib/python3.8/site-packages (from matplotlib==3.3.1->-r /workspaces/heritage-housing/requirements.txt (line 3)) (1.4.4)\nRequirement already satisfied: pillow>=6.2.0 in /home/codeany/.pyenv/versions/3.8.12/lib/python3.8/site-packages (from matplotlib==3.3.1->-r /workspaces/heritage-housing/requirements.txt (line 3)) (9.5.0)\nRequirement already satisfied: pyparsing!=2.0.4,!=2.1.2,!=2.1.6,>=2.0.3 in /home/codeany/.pyenv/versions/3.8.12/lib/python3.8/site-packages (from matplotlib==3.3.1->-r /workspaces/heritage-housing/requirements.txt (line 3)) (3.0.9)\nRequirement already satisfied: scipy>=1.0 in /home/codeany/.pyenv/versions/3.8.12/lib/python3.8/site-packages (from seaborn==0.11.0->-r /workspaces/heritage-housing/requirements.txt (line 4)) (1.9.3)\nRequirement already satisfied: joblib~=1.0.1 in /home/codeany/.pyenv/versions/3.8.12/lib/python3.8/site-packages (from pandas-profiling==3.1.0->-r /workspaces/heritage-housing/requirements.txt (line 5)) (1.0.1)\nRequirement already satisfied: pydantic>=1.8.1 in /home/codeany/.pyenv/versions/3.8.12/lib/python3.8/site-packages (from pandas-profiling==3.1.0->-r /workspaces/heritage-housing/requirements.txt (line 5)) (1.10.7)\nRequirement already satisfied: PyYAML>=5.0.0 in /home/codeany/.pyenv/versions/3.8.12/lib/python3.8/site-packages (from pandas-profiling==3.1.0->-r /workspaces/heritage-housing/requirements.txt (line 5)) (6.0)\nRequirement already satisfied: visions[type_image_path]==0.7.4 in /home/codeany/.pyenv/versions/3.8.12/lib/python3.8/site-packages (from pandas-profiling==3.1.0->-r /workspaces/heritage-housing/requirements.txt (line 5)) (0.7.4)\nRequirement already satisfied: htmlmin>=0.1.12 in /home/codeany/.pyenv/versions/3.8.12/lib/python3.8/site-packages (from pandas-profiling==3.1.0->-r /workspaces/heritage-housing/requirements.txt (line 5)) (0.1.12)\nRequirement already satisfied: missingno>=0.4.2 in /home/codeany/.pyenv/versions/3.8.12/lib/python3.8/site-packages (from pandas-profiling==3.1.0->-r /workspaces/heritage-housing/requirements.txt (line 5)) (0.5.2)\nRequirement already satisfied: phik>=0.11.1 in /home/codeany/.pyenv/versions/3.8.12/lib/python3.8/site-packages (from pandas-profiling==3.1.0->-r /workspaces/heritage-housing/requirements.txt (line 5)) (0.12.3)\nRequirement already satisfied: tangled-up-in-unicode==0.1.0 in /home/codeany/.pyenv/versions/3.8.12/lib/python3.8/site-packages (from pandas-profiling==3.1.0->-r /workspaces/heritage-housing/requirements.txt (line 5)) (0.1.0)\nRequirement already satisfied: requests>=2.24.0 in /home/codeany/.pyenv/versions/3.8.12/lib/python3.8/site-packages (from pandas-profiling==3.1.0->-r /workspaces/heritage-housing/requirements.txt (line 5)) (2.30.0)\nRequirement already satisfied: tqdm>=4.48.2 in /home/codeany/.pyenv/versions/3.8.12/lib/python3.8/site-packages (from pandas-profiling==3.1.0->-r /workspaces/heritage-housing/requirements.txt (line 5)) (4.65.0)\nRequirement already satisfied: multimethod>=1.4 in /home/codeany/.pyenv/versions/3.8.12/lib/python3.8/site-packages (from pandas-profiling==3.1.0->-r /workspaces/heritage-housing/requirements.txt (line 5)) (1.9.1)\nRequirement already satisfied: retrying>=1.3.3 in /home/codeany/.pyenv/versions/3.8.12/lib/python3.8/site-packages (from plotly==4.12.0->-r /workspaces/heritage-housing/requirements.txt (line 6)) (1.3.4)\nRequirement already satisfied: six in /home/codeany/.pyenv/versions/3.8.12/lib/python3.8/site-packages (from plotly==4.12.0->-r /workspaces/heritage-housing/requirements.txt (line 6)) (1.16.0)\nRequirement already satisfied: altair>=3.2.0 in /home/codeany/.pyenv/versions/3.8.12/lib/python3.8/site-packages (from streamlit==0.85.0->-r /workspaces/heritage-housing/requirements.txt (line 9)) (5.0.0)\nRequirement already satisfied: astor in /home/codeany/.pyenv/versions/3.8.12/lib/python3.8/site-packages (from streamlit==0.85.0->-r /workspaces/heritage-housing/requirements.txt (line 9)) (0.8.1)\nRequirement already satisfied: attrs in /home/codeany/.pyenv/versions/3.8.12/lib/python3.8/site-packages (from streamlit==0.85.0->-r /workspaces/heritage-housing/requirements.txt (line 9)) (23.1.0)\nRequirement already satisfied: base58 in /home/codeany/.pyenv/versions/3.8.12/lib/python3.8/site-packages (from streamlit==0.85.0->-r /workspaces/heritage-housing/requirements.txt (line 9)) (2.1.1)\nRequirement already satisfied: blinker in /home/codeany/.pyenv/versions/3.8.12/lib/python3.8/site-packages (from streamlit==0.85.0->-r /workspaces/heritage-housing/requirements.txt (line 9)) (1.6.2)\nRequirement already satisfied: cachetools>=4.0 in /home/codeany/.pyenv/versions/3.8.12/lib/python3.8/site-packages (from streamlit==0.85.0->-r /workspaces/heritage-housing/requirements.txt (line 9)) (5.3.0)\nRequirement already satisfied: click<8.0,>=7.0 in /home/codeany/.pyenv/versions/3.8.12/lib/python3.8/site-packages (from streamlit==0.85.0->-r /workspaces/heritage-housing/requirements.txt (line 9)) (7.1.2)\nRequirement already satisfied: packaging in /home/codeany/.pyenv/versions/3.8.12/lib/python3.8/site-packages (from streamlit==0.85.0->-r /workspaces/heritage-housing/requirements.txt (line 9)) (23.1)\nRequirement already satisfied: pyarrow in /home/codeany/.pyenv/versions/3.8.12/lib/python3.8/site-packages (from streamlit==0.85.0->-r /workspaces/heritage-housing/requirements.txt (line 9)) (12.0.0)\nRequirement already satisfied: pydeck>=0.1.dev5 in /home/codeany/.pyenv/versions/3.8.12/lib/python3.8/site-packages (from streamlit==0.85.0->-r /workspaces/heritage-housing/requirements.txt (line 9)) (0.8.1b0)\nRequirement already satisfied: toml in /home/codeany/.pyenv/versions/3.8.12/lib/python3.8/site-packages (from streamlit==0.85.0->-r /workspaces/heritage-housing/requirements.txt (line 9)) (0.10.2)\nRequirement already satisfied: tornado>=5.0 in /home/codeany/.pyenv/versions/3.8.12/lib/python3.8/site-packages (from streamlit==0.85.0->-r /workspaces/heritage-housing/requirements.txt (line 9)) (6.3.1)\nRequirement already satisfied: tzlocal in /home/codeany/.pyenv/versions/3.8.12/lib/python3.8/site-packages (from streamlit==0.85.0->-r /workspaces/heritage-housing/requirements.txt (line 9)) (4.3)\nRequirement already satisfied: validators in /home/codeany/.pyenv/versions/3.8.12/lib/python3.8/site-packages (from streamlit==0.85.0->-r /workspaces/heritage-housing/requirements.txt (line 9)) (0.20.0)\nRequirement already satisfied: gitpython in /home/codeany/.pyenv/versions/3.8.12/lib/python3.8/site-packages (from streamlit==0.85.0->-r /workspaces/heritage-housing/requirements.txt (line 9)) (3.1.31)\nRequirement already satisfied: watchdog in /home/codeany/.pyenv/versions/3.8.12/lib/python3.8/site-packages (from streamlit==0.85.0->-r /workspaces/heritage-housing/requirements.txt (line 9)) (3.0.0)\nRequirement already satisfied: statsmodels>=0.11.1 in /home/codeany/.pyenv/versions/3.8.12/lib/python3.8/site-packages (from feature-engine==1.0.2->-r /workspaces/heritage-housing/requirements.txt (line 11)) (0.14.0)\nRequirement already satisfied: threadpoolctl>=2.0.0 in /home/codeany/.pyenv/versions/3.8.12/lib/python3.8/site-packages (from scikit-learn==0.24.2->-r /workspaces/heritage-housing/requirements.txt (line 13)) (3.1.0)\nRequirement already satisfied: ipykernel>=4.5.1 in /home/codeany/.pyenv/versions/3.8.12/lib/python3.8/site-packages (from ipywidgets==8.0.2->-r /workspaces/heritage-housing/requirements.txt (line 19)) (6.23.0)\nRequirement already satisfied: ipython>=6.1.0 in /home/codeany/.pyenv/versions/3.8.12/lib/python3.8/site-packages (from ipywidgets==8.0.2->-r /workspaces/heritage-housing/requirements.txt (line 19)) (8.12.2)\nRequirement already satisfied: traitlets>=4.3.1 in /home/codeany/.pyenv/versions/3.8.12/lib/python3.8/site-packages (from ipywidgets==8.0.2->-r /workspaces/heritage-housing/requirements.txt (line 19)) (5.9.0)\nRequirement already satisfied: widgetsnbextension~=4.0 in /home/codeany/.pyenv/versions/3.8.12/lib/python3.8/site-packages (from ipywidgets==8.0.2->-r /workspaces/heritage-housing/requirements.txt (line 19)) (4.0.7)\nRequirement already satisfied: jupyterlab-widgets~=3.0 in /home/codeany/.pyenv/versions/3.8.12/lib/python3.8/site-packages (from ipywidgets==8.0.2->-r /workspaces/heritage-housing/requirements.txt (line 19)) (3.0.7)\nRequirement already satisfied: networkx>=2.4 in /home/codeany/.pyenv/versions/3.8.12/lib/python3.8/site-packages (from visions[type_image_path]==0.7.4->pandas-profiling==3.1.0->-r /workspaces/heritage-housing/requirements.txt (line 5)) (3.1)\nRequirement already satisfied: imagehash in /home/codeany/.pyenv/versions/3.8.12/lib/python3.8/site-packages (from visions[type_image_path]==0.7.4->pandas-profiling==3.1.0->-r /workspaces/heritage-housing/requirements.txt (line 5)) (4.3.1)\nRequirement already satisfied: jsonschema>=3.0 in /home/codeany/.pyenv/versions/3.8.12/lib/python3.8/site-packages (from altair>=3.2.0->streamlit==0.85.0->-r /workspaces/heritage-housing/requirements.txt (line 9)) (4.17.3)\nRequirement already satisfied: toolz in /home/codeany/.pyenv/versions/3.8.12/lib/python3.8/site-packages (from altair>=3.2.0->streamlit==0.85.0->-r /workspaces/heritage-housing/requirements.txt (line 9)) (0.12.0)\nRequirement already satisfied: typing-extensions>=4.0.1 in /home/codeany/.pyenv/versions/3.8.12/lib/python3.8/site-packages (from altair>=3.2.0->streamlit==0.85.0->-r /workspaces/heritage-housing/requirements.txt (line 9)) (4.5.0)\nRequirement already satisfied: comm>=0.1.1 in /home/codeany/.pyenv/versions/3.8.12/lib/python3.8/site-packages (from ipykernel>=4.5.1->ipywidgets==8.0.2->-r /workspaces/heritage-housing/requirements.txt (line 19)) (0.1.3)\nRequirement already satisfied: debugpy>=1.6.5 in /home/codeany/.pyenv/versions/3.8.12/lib/python3.8/site-packages (from ipykernel>=4.5.1->ipywidgets==8.0.2->-r /workspaces/heritage-housing/requirements.txt (line 19)) (1.6.7)\nRequirement already satisfied: jupyter-client>=6.1.12 in /home/codeany/.pyenv/versions/3.8.12/lib/python3.8/site-packages (from ipykernel>=4.5.1->ipywidgets==8.0.2->-r /workspaces/heritage-housing/requirements.txt (line 19)) (8.2.0)\nRequirement already satisfied: jupyter-core!=5.0.*,>=4.12 in /home/codeany/.pyenv/versions/3.8.12/lib/python3.8/site-packages (from ipykernel>=4.5.1->ipywidgets==8.0.2->-r /workspaces/heritage-housing/requirements.txt (line 19)) (5.3.0)\nRequirement already satisfied: matplotlib-inline>=0.1 in /home/codeany/.pyenv/versions/3.8.12/lib/python3.8/site-packages (from ipykernel>=4.5.1->ipywidgets==8.0.2->-r /workspaces/heritage-housing/requirements.txt (line 19)) (0.1.6)\nRequirement already satisfied: nest-asyncio in /home/codeany/.pyenv/versions/3.8.12/lib/python3.8/site-packages (from ipykernel>=4.5.1->ipywidgets==8.0.2->-r /workspaces/heritage-housing/requirements.txt (line 19)) (1.5.6)\nRequirement already satisfied: psutil in /home/codeany/.pyenv/versions/3.8.12/lib/python3.8/site-packages (from ipykernel>=4.5.1->ipywidgets==8.0.2->-r /workspaces/heritage-housing/requirements.txt (line 19)) (5.9.5)\nRequirement already satisfied: pyzmq>=20 in /home/codeany/.pyenv/versions/3.8.12/lib/python3.8/site-packages (from ipykernel>=4.5.1->ipywidgets==8.0.2->-r /workspaces/heritage-housing/requirements.txt (line 19)) (25.0.2)\nRequirement already satisfied: backcall in /home/codeany/.pyenv/versions/3.8.12/lib/python3.8/site-packages (from ipython>=6.1.0->ipywidgets==8.0.2->-r /workspaces/heritage-housing/requirements.txt (line 19)) (0.2.0)\nRequirement already satisfied: decorator in /home/codeany/.pyenv/versions/3.8.12/lib/python3.8/site-packages (from ipython>=6.1.0->ipywidgets==8.0.2->-r /workspaces/heritage-housing/requirements.txt (line 19)) (5.1.1)\nRequirement already satisfied: jedi>=0.16 in /home/codeany/.pyenv/versions/3.8.12/lib/python3.8/site-packages (from ipython>=6.1.0->ipywidgets==8.0.2->-r /workspaces/heritage-housing/requirements.txt (line 19)) (0.18.2)\nRequirement already satisfied: pickleshare in /home/codeany/.pyenv/versions/3.8.12/lib/python3.8/site-packages (from ipython>=6.1.0->ipywidgets==8.0.2->-r /workspaces/heritage-housing/requirements.txt (line 19)) (0.7.5)\nRequirement already satisfied: prompt-toolkit!=3.0.37,<3.1.0,>=3.0.30 in /home/codeany/.pyenv/versions/3.8.12/lib/python3.8/site-packages (from ipython>=6.1.0->ipywidgets==8.0.2->-r /workspaces/heritage-housing/requirements.txt (line 19)) (3.0.38)\nRequirement already satisfied: pygments>=2.4.0 in /home/codeany/.pyenv/versions/3.8.12/lib/python3.8/site-packages (from ipython>=6.1.0->ipywidgets==8.0.2->-r /workspaces/heritage-housing/requirements.txt (line 19)) (2.15.1)\nRequirement already satisfied: stack-data in /home/codeany/.pyenv/versions/3.8.12/lib/python3.8/site-packages (from ipython>=6.1.0->ipywidgets==8.0.2->-r /workspaces/heritage-housing/requirements.txt (line 19)) (0.6.2)\nRequirement already satisfied: pexpect>4.3 in /home/codeany/.pyenv/versions/3.8.12/lib/python3.8/site-packages (from ipython>=6.1.0->ipywidgets==8.0.2->-r /workspaces/heritage-housing/requirements.txt (line 19)) (4.8.0)\nRequirement already satisfied: charset-normalizer<4,>=2 in /home/codeany/.pyenv/versions/3.8.12/lib/python3.8/site-packages (from requests>=2.24.0->pandas-profiling==3.1.0->-r /workspaces/heritage-housing/requirements.txt (line 5)) (3.1.0)\nRequirement already satisfied: idna<4,>=2.5 in /home/codeany/.pyenv/versions/3.8.12/lib/python3.8/site-packages (from requests>=2.24.0->pandas-profiling==3.1.0->-r /workspaces/heritage-housing/requirements.txt (line 5)) (3.4)\nRequirement already satisfied: urllib3<3,>=1.21.1 in /home/codeany/.pyenv/versions/3.8.12/lib/python3.8/site-packages (from requests>=2.24.0->pandas-profiling==3.1.0->-r /workspaces/heritage-housing/requirements.txt (line 5)) (2.0.2)\nRequirement already satisfied: patsy>=0.5.2 in /home/codeany/.pyenv/versions/3.8.12/lib/python3.8/site-packages (from statsmodels>=0.11.1->feature-engine==1.0.2->-r /workspaces/heritage-housing/requirements.txt (line 11)) (0.5.3)\nRequirement already satisfied: gitdb<5,>=4.0.1 in /home/codeany/.pyenv/versions/3.8.12/lib/python3.8/site-packages (from gitpython->streamlit==0.85.0->-r /workspaces/heritage-housing/requirements.txt (line 9)) (4.0.10)\nRequirement already satisfied: pytz-deprecation-shim in /home/codeany/.pyenv/versions/3.8.12/lib/python3.8/site-packages (from tzlocal->streamlit==0.85.0->-r /workspaces/heritage-housing/requirements.txt (line 9)) (0.1.0.post0)\nRequirement already satisfied: backports.zoneinfo in /home/codeany/.pyenv/versions/3.8.12/lib/python3.8/site-packages (from tzlocal->streamlit==0.85.0->-r /workspaces/heritage-housing/requirements.txt (line 9)) (0.2.1)\nRequirement already satisfied: smmap<6,>=3.0.1 in /home/codeany/.pyenv/versions/3.8.12/lib/python3.8/site-packages (from gitdb<5,>=4.0.1->gitpython->streamlit==0.85.0->-r /workspaces/heritage-housing/requirements.txt (line 9)) (5.0.0)\nRequirement already satisfied: parso<0.9.0,>=0.8.0 in /home/codeany/.pyenv/versions/3.8.12/lib/python3.8/site-packages (from jedi>=0.16->ipython>=6.1.0->ipywidgets==8.0.2->-r /workspaces/heritage-housing/requirements.txt (line 19)) (0.8.3)\nRequirement already satisfied: importlib-resources>=1.4.0 in /home/codeany/.pyenv/versions/3.8.12/lib/python3.8/site-packages (from jsonschema>=3.0->altair>=3.2.0->streamlit==0.85.0->-r /workspaces/heritage-housing/requirements.txt (line 9)) (5.12.0)\nRequirement already satisfied: pkgutil-resolve-name>=1.3.10 in /home/codeany/.pyenv/versions/3.8.12/lib/python3.8/site-packages (from jsonschema>=3.0->altair>=3.2.0->streamlit==0.85.0->-r /workspaces/heritage-housing/requirements.txt (line 9)) (1.3.10)\nRequirement already satisfied: pyrsistent!=0.17.0,!=0.17.1,!=0.17.2,>=0.14.0 in /home/codeany/.pyenv/versions/3.8.12/lib/python3.8/site-packages (from jsonschema>=3.0->altair>=3.2.0->streamlit==0.85.0->-r /workspaces/heritage-housing/requirements.txt (line 9)) (0.19.3)\nRequirement already satisfied: importlib-metadata>=4.8.3 in /home/codeany/.pyenv/versions/3.8.12/lib/python3.8/site-packages (from jupyter-client>=6.1.12->ipykernel>=4.5.1->ipywidgets==8.0.2->-r /workspaces/heritage-housing/requirements.txt (line 19)) (6.6.0)\nRequirement already satisfied: platformdirs>=2.5 in /home/codeany/.pyenv/versions/3.8.12/lib/python3.8/site-packages (from jupyter-core!=5.0.*,>=4.12->ipykernel>=4.5.1->ipywidgets==8.0.2->-r /workspaces/heritage-housing/requirements.txt (line 19)) (3.5.0)\nRequirement already satisfied: ptyprocess>=0.5 in /home/codeany/.pyenv/versions/3.8.12/lib/python3.8/site-packages (from pexpect>4.3->ipython>=6.1.0->ipywidgets==8.0.2->-r /workspaces/heritage-housing/requirements.txt (line 19)) (0.7.0)\nRequirement already satisfied: wcwidth in /home/codeany/.pyenv/versions/3.8.12/lib/python3.8/site-packages (from prompt-toolkit!=3.0.37,<3.1.0,>=3.0.30->ipython>=6.1.0->ipywidgets==8.0.2->-r /workspaces/heritage-housing/requirements.txt (line 19)) (0.2.6)\nRequirement already satisfied: PyWavelets in /home/codeany/.pyenv/versions/3.8.12/lib/python3.8/site-packages (from imagehash->visions[type_image_path]==0.7.4->pandas-profiling==3.1.0->-r /workspaces/heritage-housing/requirements.txt (line 5)) (1.4.1)\nRequirement already satisfied: tzdata in /home/codeany/.pyenv/versions/3.8.12/lib/python3.8/site-packages (from pytz-deprecation-shim->tzlocal->streamlit==0.85.0->-r /workspaces/heritage-housing/requirements.txt (line 9)) (2023.3)\nRequirement already satisfied: executing>=1.2.0 in /home/codeany/.pyenv/versions/3.8.12/lib/python3.8/site-packages (from stack-data->ipython>=6.1.0->ipywidgets==8.0.2->-r /workspaces/heritage-housing/requirements.txt (line 19)) (1.2.0)\nRequirement already satisfied: asttokens>=2.1.0 in /home/codeany/.pyenv/versions/3.8.12/lib/python3.8/site-packages (from stack-data->ipython>=6.1.0->ipywidgets==8.0.2->-r /workspaces/heritage-housing/requirements.txt (line 19)) (2.2.1)\nRequirement already satisfied: pure-eval in /home/codeany/.pyenv/versions/3.8.12/lib/python3.8/site-packages (from stack-data->ipython>=6.1.0->ipywidgets==8.0.2->-r /workspaces/heritage-housing/requirements.txt (line 19)) (0.2.2)\nRequirement already satisfied: zipp>=0.5 in /home/codeany/.pyenv/versions/3.8.12/lib/python3.8/site-packages (from importlib-metadata>=4.8.3->jupyter-client>=6.1.12->ipykernel>=4.5.1->ipywidgets==8.0.2->-r /workspaces/heritage-housing/requirements.txt (line 19)) (3.15.0)\nNote: you may need to restart the kernel to use updated packages.\n"
        }
      ],
      "source": [
        "%pip install -r /workspaces/heritage-housing/requirements.txt"
      ]
    },
    {
      "source": [
        "-------"
      ],
      "cell_type": "markdown",
      "metadata": {}
    },
    {
      "source": [
        "# Fetch data from Kaggle"
      ],
      "cell_type": "markdown",
      "metadata": {}
    },
    {
      "source": [
        "%pip install kaggle==1.5.12"
      ],
      "cell_type": "code",
      "metadata": {
        "tags": []
      },
      "execution_count": 5,
      "outputs": [
        {
          "output_type": "stream",
          "name": "stdout",
          "text": "Requirement already satisfied: kaggle==1.5.12 in /home/codeany/.pyenv/versions/3.8.12/lib/python3.8/site-packages (1.5.12)\nRequirement already satisfied: six>=1.10 in /home/codeany/.pyenv/versions/3.8.12/lib/python3.8/site-packages (from kaggle==1.5.12) (1.16.0)\nRequirement already satisfied: certifi in /home/codeany/.pyenv/versions/3.8.12/lib/python3.8/site-packages (from kaggle==1.5.12) (2023.5.7)\nRequirement already satisfied: python-dateutil in /home/codeany/.pyenv/versions/3.8.12/lib/python3.8/site-packages (from kaggle==1.5.12) (2.8.2)\nRequirement already satisfied: requests in /home/codeany/.pyenv/versions/3.8.12/lib/python3.8/site-packages (from kaggle==1.5.12) (2.30.0)\nRequirement already satisfied: tqdm in /home/codeany/.pyenv/versions/3.8.12/lib/python3.8/site-packages (from kaggle==1.5.12) (4.65.0)\nRequirement already satisfied: python-slugify in /home/codeany/.pyenv/versions/3.8.12/lib/python3.8/site-packages (from kaggle==1.5.12) (8.0.1)\nRequirement already satisfied: urllib3 in /home/codeany/.pyenv/versions/3.8.12/lib/python3.8/site-packages (from kaggle==1.5.12) (2.0.2)\nRequirement already satisfied: text-unidecode>=1.3 in /home/codeany/.pyenv/versions/3.8.12/lib/python3.8/site-packages (from python-slugify->kaggle==1.5.12) (1.3)\nRequirement already satisfied: charset-normalizer<4,>=2 in /home/codeany/.pyenv/versions/3.8.12/lib/python3.8/site-packages (from requests->kaggle==1.5.12) (3.1.0)\nRequirement already satisfied: idna<4,>=2.5 in /home/codeany/.pyenv/versions/3.8.12/lib/python3.8/site-packages (from requests->kaggle==1.5.12) (3.4)\nNote: you may need to restart the kernel to use updated packages.\n"
        }
      ]
    },
    {
      "cell_type": "code",
      "execution_count": 6,
      "metadata": {
        "tags": []
      },
      "outputs": [],
      "source": [
        "import os\n",
        "os.environ['KAGGLE_CONFIG_DIR'] = os.getcwd()\n",
        "! chmod 600 kaggle.json"
      ]
    },
    {
      "cell_type": "code",
      "execution_count": 7,
      "metadata": {
        "tags": []
      },
      "outputs": [
        {
          "output_type": "stream",
          "name": "stdout",
          "text": "Package                  Version\n------------------------ -----------\naltair                   5.0.0\nanyio                    3.6.2\nargon2-cffi              21.3.0\nargon2-cffi-bindings     21.2.0\narrow                    1.2.3\nastor                    0.8.1\nastroid                  2.15.4\nasttokens                2.2.1\nattrs                    23.1.0\nautopep8                 2.0.2\nbackcall                 0.2.0\nbackports.zoneinfo       0.2.1\nbandit                   1.7.5\nbase58                   2.1.1\nbeautifulsoup4           4.12.2\nbleach                   6.0.0\nblinker                  1.6.2\ncachetools               5.3.0\ncertifi                  2023.5.7\ncffi                     1.15.1\ncharset-normalizer       3.1.0\nclick                    7.1.2\ncomm                     0.1.3\ncryptography             40.0.2\ncycler                   0.11.0\ndebugpy                  1.6.7\ndecorator                5.1.1\ndefusedxml               0.7.1\ndill                     0.3.6\ndistlib                  0.3.6\ndocutils                 0.20\nexecuting                1.2.0\nfastjsonschema           2.16.3\nfeature-engine           1.0.2\nfilelock                 3.12.0\nflake8                   6.0.0\nfqdn                     1.5.1\ngitdb                    4.0.10\nGitPython                3.1.31\nhtmlmin                  0.1.12\nidna                     3.4\nImageHash                4.3.1\nimbalanced-learn         0.8.0\nimportlib-metadata       6.6.0\nimportlib-resources      5.12.0\nipykernel                6.23.0\nipython                  8.12.2\nipython-genutils         0.2.0\nipywidgets               8.0.2\nisoduration              20.11.0\nisort                    5.12.0\njaraco.classes           3.2.3\njedi                     0.18.2\njeepney                  0.8.0\nJinja2                   3.1.1\njoblib                   1.0.1\njsonpointer              2.3\njsonschema               4.17.3\njupyter_client           8.2.0\njupyter_core             5.3.0\njupyter-events           0.6.3\njupyter_server           2.5.0\njupyter_server_terminals 0.4.4\njupyterlab-pygments      0.2.2\njupyterlab-widgets       3.0.7\nkaggle                   1.5.12\nkeyring                  23.13.1\nkiwisolver               1.4.4\nlazy-object-proxy        1.9.0\nmarkdown-it-py           2.2.0\nMarkupSafe               2.0.1\nmatplotlib               3.3.1\nmatplotlib-inline        0.1.6\nmccabe                   0.7.0\nmdurl                    0.1.2\nmissingno                0.5.2\nmistune                  2.0.5\nmore-itertools           9.1.0\nmultimethod              1.9.1\nmypy                     1.2.0\nmypy-extensions          1.0.0\nnbclassic                1.0.0\nnbclient                 0.7.4\nnbconvert                7.4.0\nnbformat                 5.8.0\nnest-asyncio             1.5.6\nnetworkx                 3.1\nnotebook                 6.5.4\nnotebook_shim            0.2.3\nnumpy                    1.18.5\npackaging                23.1\npandas                   1.4.2\npandas-profiling         3.1.0\npandocfilters            1.5.0\nparso                    0.8.3\npatsy                    0.5.3\npbr                      5.11.1\npep8                     1.7.1\npexpect                  4.8.0\nphik                     0.12.3\npickleshare              0.7.5\nPillow                   9.5.0\npip                      23.1.2\npipenv                   2023.4.29\npkginfo                  1.9.6\npkgutil_resolve_name     1.3.10\nplatformdirs             3.5.0\nplotly                   4.12.0\nppscore                  1.2.0\nprometheus-client        0.16.0\nprompt-toolkit           3.0.38\nprotobuf                 3.20.0\npsutil                   5.9.5\nptyprocess               0.7.0\npure-eval                0.2.2\npyarrow                  12.0.0\npycodestyle              2.10.0\npycparser                2.21\npydantic                 1.10.7\npydeck                   0.8.1b0\npydocstyle               6.3.0\npyflakes                 3.0.1\nPygments                 2.15.1\npylama                   8.4.1\npylint                   2.17.4\npyparsing                3.0.9\npyrsistent               0.19.3\npython-dateutil          2.8.2\npython-json-logger       2.0.7\npython-slugify           8.0.1\npytoolconfig             1.2.5\npytz                     2023.3\npytz-deprecation-shim    0.1.0.post0\nPyWavelets               1.4.1\nPyYAML                   6.0\npyzmq                    25.0.2\nreadme-renderer          37.3\nrequests                 2.30.0\nrequests-toolbelt        1.0.0\nretrying                 1.3.4\nrfc3339-validator        0.1.4\nrfc3986                  2.0.0\nrfc3986-validator        0.1.1\nrich                     13.3.5\nrope                     1.8.0\nscikit-learn             0.24.2\nscipy                    1.9.3\nseaborn                  0.11.0\nSecretStorage            3.3.3\nSend2Trash               1.8.2\nsetuptools               67.7.2\nsix                      1.16.0\nsmmap                    5.0.0\nsniffio                  1.3.0\nsnowballstemmer          2.2.0\nsoupsieve                2.4.1\nstack-data               0.6.2\nstatsmodels              0.14.0\nstevedore                5.0.0\nstreamlit                0.85.0\ntangled-up-in-unicode    0.1.0\nterminado                0.17.1\ntext-unidecode           1.3\nthreadpoolctl            3.1.0\ntinycss2                 1.2.1\ntoml                     0.10.2\ntomli                    2.0.1\ntomlkit                  0.11.8\ntoolz                    0.12.0\ntornado                  6.3.1\ntqdm                     4.65.0\ntraitlets                5.9.0\ntwine                    4.0.2\ntyping_extensions        4.5.0\ntzdata                   2023.3\ntzlocal                  4.3\nuri-template             1.2.0\nurllib3                  2.0.2\nvalidators               0.20.0\nvirtualenv               20.23.0\nvirtualenv-clone         0.5.7\nvisions                  0.7.4\nwatchdog                 3.0.0\nwcwidth                  0.2.6\nwebcolors                1.13\nwebencodings             0.5.1\nwebsocket-client         1.5.1\nwheel                    0.40.0\nwidgetsnbextension       4.0.7\nwrapt                    1.15.0\nxgboost                  1.2.1\nyellowbrick              1.3\nzipp                     3.15.0\nNote: you may need to restart the kernel to use updated packages.\n"
        }
      ],
      "source": [
        "pip list"
      ]
    },
    {
      "cell_type": "code",
      "execution_count": 8,
      "metadata": {
        "tags": []
      },
      "outputs": [
        {
          "output_type": "stream",
          "name": "stdout",
          "text": "Requirement already satisfied: kaggle in /home/codeany/.pyenv/versions/3.8.12/lib/python3.8/site-packages (1.5.12)\nRequirement already satisfied: six>=1.10 in /home/codeany/.pyenv/versions/3.8.12/lib/python3.8/site-packages (from kaggle) (1.16.0)\nRequirement already satisfied: certifi in /home/codeany/.pyenv/versions/3.8.12/lib/python3.8/site-packages (from kaggle) (2023.5.7)\nRequirement already satisfied: python-dateutil in /home/codeany/.pyenv/versions/3.8.12/lib/python3.8/site-packages (from kaggle) (2.8.2)\nRequirement already satisfied: requests in /home/codeany/.pyenv/versions/3.8.12/lib/python3.8/site-packages (from kaggle) (2.30.0)\nRequirement already satisfied: tqdm in /home/codeany/.pyenv/versions/3.8.12/lib/python3.8/site-packages (from kaggle) (4.65.0)\nRequirement already satisfied: python-slugify in /home/codeany/.pyenv/versions/3.8.12/lib/python3.8/site-packages (from kaggle) (8.0.1)\nRequirement already satisfied: urllib3 in /home/codeany/.pyenv/versions/3.8.12/lib/python3.8/site-packages (from kaggle) (2.0.2)\nRequirement already satisfied: text-unidecode>=1.3 in /home/codeany/.pyenv/versions/3.8.12/lib/python3.8/site-packages (from python-slugify->kaggle) (1.3)\nRequirement already satisfied: charset-normalizer<4,>=2 in /home/codeany/.pyenv/versions/3.8.12/lib/python3.8/site-packages (from requests->kaggle) (3.1.0)\nRequirement already satisfied: idna<4,>=2.5 in /home/codeany/.pyenv/versions/3.8.12/lib/python3.8/site-packages (from requests->kaggle) (3.4)\n"
        }
      ],
      "source": [
        "!pip install --user kaggle"
      ]
    },
    {
      "cell_type": "code",
      "execution_count": 9,
      "metadata": {
        "tags": []
      },
      "outputs": [
        {
          "output_type": "stream",
          "name": "stdout",
          "text": "mv: cannot move 'kaggle.json' to '/home/codeany/.kaggle/kaggle.json': No such file or directory\n"
        }
      ],
      "source": [
        "mv kaggle.json /home/codeany/.kaggle/kaggle.json"
      ]
    },
    {
      "cell_type": "code",
      "execution_count": 10,
      "metadata": {
        "tags": []
      },
      "outputs": [
        {
          "output_type": "stream",
          "name": "stdout",
          "text": "Downloading housing-prices-data.zip to inputs/datasets/raw\n  0%|                                               | 0.00/49.6k [00:00<?, ?B/s]\n100%|██████████████████████████████████████| 49.6k/49.6k [00:00<00:00, 7.22MB/s]\n"
        }
      ],
      "source": [
        "KaggleDatasetPath = \"codeinstitute/housing-prices-data\"\n",
        "DestinationFolder = \"inputs/datasets/raw\"   \n",
        "! kaggle datasets download -d {KaggleDatasetPath} -p {DestinationFolder}"
      ]
    },
    {
      "cell_type": "code",
      "execution_count": 11,
      "metadata": {
        "tags": []
      },
      "outputs": [
        {
          "output_type": "stream",
          "name": "stdout",
          "text": "Archive:  inputs/datasets/raw/housing-prices-data.zip\n  inflating: inputs/datasets/raw/house-metadata.txt  \n  inflating: inputs/datasets/raw/house-price-20211124T154130Z-001/house-price/house_prices_records.csv  \n  inflating: inputs/datasets/raw/house-price-20211124T154130Z-001/house-price/inherited_houses.csv  \n"
        }
      ],
      "source": [
        "! unzip {DestinationFolder}/*.zip -d {DestinationFolder} \\\n",
        "  && rm {DestinationFolder}/*.zip \\\n",
        "  && rm kaggle.json"
      ]
    },
    {
      "source": [
        "-------"
      ],
      "cell_type": "markdown",
      "metadata": {}
    },
    {
      "source": [
        "# Load and Inspect Kaggle data"
      ],
      "cell_type": "markdown",
      "metadata": {}
    },
    {
      "cell_type": "code",
      "execution_count": 24,
      "metadata": {},
      "outputs": [
        {
          "output_type": "execute_result",
          "data": {
            "text/plain": "   1stFlrSF  2ndFlrSF  BedroomAbvGr BsmtExposure  BsmtFinSF1 BsmtFinType1  \\\n0       856     854.0           3.0           No         706          GLQ   \n1      1262       0.0           3.0           Gd         978          ALQ   \n2       920     866.0           3.0           Mn         486          GLQ   \n3       961       NaN           NaN           No         216          ALQ   \n4      1145       NaN           4.0           Av         655          GLQ   \n\n   BsmtUnfSF  EnclosedPorch  GarageArea GarageFinish  ...  LotFrontage  \\\n0        150            0.0         548          RFn  ...         65.0   \n1        284            NaN         460          RFn  ...         80.0   \n2        434            0.0         608          RFn  ...         68.0   \n3        540            NaN         642          Unf  ...         60.0   \n4        490            0.0         836          RFn  ...         84.0   \n\n   MasVnrArea OpenPorchSF  OverallCond  OverallQual  TotalBsmtSF  WoodDeckSF  \\\n0       196.0          61            5            7          856         0.0   \n1         0.0           0            8            6         1262         NaN   \n2       162.0          42            5            7          920         NaN   \n3         0.0          35            5            7          756         NaN   \n4       350.0          84            5            8         1145         NaN   \n\n   YearBuilt  YearRemodAdd  SalePrice  \n0       2003          2003     208500  \n1       1976          1976     181500  \n2       2001          2002     223500  \n3       1915          1970     140000  \n4       2000          2000     250000  \n\n[5 rows x 24 columns]",
            "text/html": "<div>\n<style scoped>\n    .dataframe tbody tr th:only-of-type {\n        vertical-align: middle;\n    }\n\n    .dataframe tbody tr th {\n        vertical-align: top;\n    }\n\n    .dataframe thead th {\n        text-align: right;\n    }\n</style>\n<table border=\"1\" class=\"dataframe\">\n  <thead>\n    <tr style=\"text-align: right;\">\n      <th></th>\n      <th>1stFlrSF</th>\n      <th>2ndFlrSF</th>\n      <th>BedroomAbvGr</th>\n      <th>BsmtExposure</th>\n      <th>BsmtFinSF1</th>\n      <th>BsmtFinType1</th>\n      <th>BsmtUnfSF</th>\n      <th>EnclosedPorch</th>\n      <th>GarageArea</th>\n      <th>GarageFinish</th>\n      <th>...</th>\n      <th>LotFrontage</th>\n      <th>MasVnrArea</th>\n      <th>OpenPorchSF</th>\n      <th>OverallCond</th>\n      <th>OverallQual</th>\n      <th>TotalBsmtSF</th>\n      <th>WoodDeckSF</th>\n      <th>YearBuilt</th>\n      <th>YearRemodAdd</th>\n      <th>SalePrice</th>\n    </tr>\n  </thead>\n  <tbody>\n    <tr>\n      <th>0</th>\n      <td>856</td>\n      <td>854.0</td>\n      <td>3.0</td>\n      <td>No</td>\n      <td>706</td>\n      <td>GLQ</td>\n      <td>150</td>\n      <td>0.0</td>\n      <td>548</td>\n      <td>RFn</td>\n      <td>...</td>\n      <td>65.0</td>\n      <td>196.0</td>\n      <td>61</td>\n      <td>5</td>\n      <td>7</td>\n      <td>856</td>\n      <td>0.0</td>\n      <td>2003</td>\n      <td>2003</td>\n      <td>208500</td>\n    </tr>\n    <tr>\n      <th>1</th>\n      <td>1262</td>\n      <td>0.0</td>\n      <td>3.0</td>\n      <td>Gd</td>\n      <td>978</td>\n      <td>ALQ</td>\n      <td>284</td>\n      <td>NaN</td>\n      <td>460</td>\n      <td>RFn</td>\n      <td>...</td>\n      <td>80.0</td>\n      <td>0.0</td>\n      <td>0</td>\n      <td>8</td>\n      <td>6</td>\n      <td>1262</td>\n      <td>NaN</td>\n      <td>1976</td>\n      <td>1976</td>\n      <td>181500</td>\n    </tr>\n    <tr>\n      <th>2</th>\n      <td>920</td>\n      <td>866.0</td>\n      <td>3.0</td>\n      <td>Mn</td>\n      <td>486</td>\n      <td>GLQ</td>\n      <td>434</td>\n      <td>0.0</td>\n      <td>608</td>\n      <td>RFn</td>\n      <td>...</td>\n      <td>68.0</td>\n      <td>162.0</td>\n      <td>42</td>\n      <td>5</td>\n      <td>7</td>\n      <td>920</td>\n      <td>NaN</td>\n      <td>2001</td>\n      <td>2002</td>\n      <td>223500</td>\n    </tr>\n    <tr>\n      <th>3</th>\n      <td>961</td>\n      <td>NaN</td>\n      <td>NaN</td>\n      <td>No</td>\n      <td>216</td>\n      <td>ALQ</td>\n      <td>540</td>\n      <td>NaN</td>\n      <td>642</td>\n      <td>Unf</td>\n      <td>...</td>\n      <td>60.0</td>\n      <td>0.0</td>\n      <td>35</td>\n      <td>5</td>\n      <td>7</td>\n      <td>756</td>\n      <td>NaN</td>\n      <td>1915</td>\n      <td>1970</td>\n      <td>140000</td>\n    </tr>\n    <tr>\n      <th>4</th>\n      <td>1145</td>\n      <td>NaN</td>\n      <td>4.0</td>\n      <td>Av</td>\n      <td>655</td>\n      <td>GLQ</td>\n      <td>490</td>\n      <td>0.0</td>\n      <td>836</td>\n      <td>RFn</td>\n      <td>...</td>\n      <td>84.0</td>\n      <td>350.0</td>\n      <td>84</td>\n      <td>5</td>\n      <td>8</td>\n      <td>1145</td>\n      <td>NaN</td>\n      <td>2000</td>\n      <td>2000</td>\n      <td>250000</td>\n    </tr>\n  </tbody>\n</table>\n<p>5 rows × 24 columns</p>\n</div>"
          },
          "metadata": {},
          "execution_count": 24
        }
      ],
      "source": [
        "import pandas as pd\n",
        "df = pd.read_csv(f\"inputs/datasets/raw/house-price-20211124T154130Z-001/house-price/house_prices_records.csv\")\n",
        "df.head()"
      ]
    },
    {
      "source": [
        "DataFrame Summary"
      ],
      "cell_type": "markdown",
      "metadata": {}
    },
    {
      "cell_type": "code",
      "execution_count": 18,
      "metadata": {
        "tags": []
      },
      "outputs": [
        {
          "output_type": "stream",
          "name": "stdout",
          "text": "<class 'pandas.core.frame.DataFrame'>\nRangeIndex: 1460 entries, 0 to 1459\nData columns (total 24 columns):\n #   Column         Non-Null Count  Dtype  \n---  ------         --------------  -----  \n 0   1stFlrSF       1460 non-null   int64  \n 1   2ndFlrSF       1374 non-null   float64\n 2   BedroomAbvGr   1361 non-null   float64\n 3   BsmtExposure   1460 non-null   object \n 4   BsmtFinSF1     1460 non-null   int64  \n 5   BsmtFinType1   1346 non-null   object \n 6   BsmtUnfSF      1460 non-null   int64  \n 7   EnclosedPorch  136 non-null    float64\n 8   GarageArea     1460 non-null   int64  \n 9   GarageFinish   1298 non-null   object \n 10  GarageYrBlt    1379 non-null   float64\n 11  GrLivArea      1460 non-null   int64  \n 12  KitchenQual    1460 non-null   object \n 13  LotArea        1460 non-null   int64  \n 14  LotFrontage    1201 non-null   float64\n 15  MasVnrArea     1452 non-null   float64\n 16  OpenPorchSF    1460 non-null   int64  \n 17  OverallCond    1460 non-null   int64  \n 18  OverallQual    1460 non-null   int64  \n 19  TotalBsmtSF    1460 non-null   int64  \n 20  WoodDeckSF     155 non-null    float64\n 21  YearBuilt      1460 non-null   int64  \n 22  YearRemodAdd   1460 non-null   int64  \n 23  SalePrice      1460 non-null   int64  \ndtypes: float64(7), int64(13), object(4)\nmemory usage: 273.9+ KB\n"
        }
      ],
      "source": [
        "df.info()"
      ]
    },
    {
      "cell_type": "code",
      "execution_count": 23,
      "metadata": {},
      "outputs": [
        {
          "output_type": "execute_result",
          "data": {
            "text/plain": "   1stFlrSF  2ndFlrSF  BedroomAbvGr BsmtExposure  BsmtFinSF1 BsmtFinType1  \\\n0       896         0             2           No       468.0          Rec   \n1      1329         0             3           No       923.0          ALQ   \n2       928       701             3           No       791.0          GLQ   \n3       926       678             3           No       602.0          GLQ   \n\n   BsmtUnfSF  EnclosedPorch  GarageArea GarageFinish  ...  LotArea  \\\n0      270.0              0       730.0          Unf  ...    11622   \n1      406.0              0       312.0          Unf  ...    14267   \n2      137.0              0       482.0          Fin  ...    13830   \n3      324.0              0       470.0          Fin  ...     9978   \n\n   LotFrontage MasVnrArea  OpenPorchSF  OverallCond  OverallQual  TotalBsmtSF  \\\n0         80.0        0.0            0            6            5        882.0   \n1         81.0      108.0           36            6            6       1329.0   \n2         74.0        0.0           34            5            5        928.0   \n3         78.0       20.0           36            6            6        926.0   \n\n   WoodDeckSF  YearBuilt  YearRemodAdd  \n0         140       1961          1961  \n1         393       1958          1958  \n2         212       1997          1998  \n3         360       1998          1998  \n\n[4 rows x 23 columns]",
            "text/html": "<div>\n<style scoped>\n    .dataframe tbody tr th:only-of-type {\n        vertical-align: middle;\n    }\n\n    .dataframe tbody tr th {\n        vertical-align: top;\n    }\n\n    .dataframe thead th {\n        text-align: right;\n    }\n</style>\n<table border=\"1\" class=\"dataframe\">\n  <thead>\n    <tr style=\"text-align: right;\">\n      <th></th>\n      <th>1stFlrSF</th>\n      <th>2ndFlrSF</th>\n      <th>BedroomAbvGr</th>\n      <th>BsmtExposure</th>\n      <th>BsmtFinSF1</th>\n      <th>BsmtFinType1</th>\n      <th>BsmtUnfSF</th>\n      <th>EnclosedPorch</th>\n      <th>GarageArea</th>\n      <th>GarageFinish</th>\n      <th>...</th>\n      <th>LotArea</th>\n      <th>LotFrontage</th>\n      <th>MasVnrArea</th>\n      <th>OpenPorchSF</th>\n      <th>OverallCond</th>\n      <th>OverallQual</th>\n      <th>TotalBsmtSF</th>\n      <th>WoodDeckSF</th>\n      <th>YearBuilt</th>\n      <th>YearRemodAdd</th>\n    </tr>\n  </thead>\n  <tbody>\n    <tr>\n      <th>0</th>\n      <td>896</td>\n      <td>0</td>\n      <td>2</td>\n      <td>No</td>\n      <td>468.0</td>\n      <td>Rec</td>\n      <td>270.0</td>\n      <td>0</td>\n      <td>730.0</td>\n      <td>Unf</td>\n      <td>...</td>\n      <td>11622</td>\n      <td>80.0</td>\n      <td>0.0</td>\n      <td>0</td>\n      <td>6</td>\n      <td>5</td>\n      <td>882.0</td>\n      <td>140</td>\n      <td>1961</td>\n      <td>1961</td>\n    </tr>\n    <tr>\n      <th>1</th>\n      <td>1329</td>\n      <td>0</td>\n      <td>3</td>\n      <td>No</td>\n      <td>923.0</td>\n      <td>ALQ</td>\n      <td>406.0</td>\n      <td>0</td>\n      <td>312.0</td>\n      <td>Unf</td>\n      <td>...</td>\n      <td>14267</td>\n      <td>81.0</td>\n      <td>108.0</td>\n      <td>36</td>\n      <td>6</td>\n      <td>6</td>\n      <td>1329.0</td>\n      <td>393</td>\n      <td>1958</td>\n      <td>1958</td>\n    </tr>\n    <tr>\n      <th>2</th>\n      <td>928</td>\n      <td>701</td>\n      <td>3</td>\n      <td>No</td>\n      <td>791.0</td>\n      <td>GLQ</td>\n      <td>137.0</td>\n      <td>0</td>\n      <td>482.0</td>\n      <td>Fin</td>\n      <td>...</td>\n      <td>13830</td>\n      <td>74.0</td>\n      <td>0.0</td>\n      <td>34</td>\n      <td>5</td>\n      <td>5</td>\n      <td>928.0</td>\n      <td>212</td>\n      <td>1997</td>\n      <td>1998</td>\n    </tr>\n    <tr>\n      <th>3</th>\n      <td>926</td>\n      <td>678</td>\n      <td>3</td>\n      <td>No</td>\n      <td>602.0</td>\n      <td>GLQ</td>\n      <td>324.0</td>\n      <td>0</td>\n      <td>470.0</td>\n      <td>Fin</td>\n      <td>...</td>\n      <td>9978</td>\n      <td>78.0</td>\n      <td>20.0</td>\n      <td>36</td>\n      <td>6</td>\n      <td>6</td>\n      <td>926.0</td>\n      <td>360</td>\n      <td>1998</td>\n      <td>1998</td>\n    </tr>\n  </tbody>\n</table>\n<p>4 rows × 23 columns</p>\n</div>"
          },
          "metadata": {},
          "execution_count": 23
        }
      ],
      "source": [
        "import pandas as pd\n",
        "df2 = pd.read_csv(f\"inputs/datasets/raw/house-price-20211124T154130Z-001/house-price/inherited_houses.csv\")\n",
        "df2.head()"
      ]
    },
    {
      "source": [
        "----"
      ],
      "cell_type": "markdown",
      "metadata": {}
    },
    {
      "cell_type": "code",
      "execution_count": 27,
      "metadata": {
        "tags": []
      },
      "outputs": [
        {
          "output_type": "stream",
          "name": "stdout",
          "text": "<class 'pandas.core.frame.DataFrame'>\nRangeIndex: 4 entries, 0 to 3\nData columns (total 23 columns):\n #   Column         Non-Null Count  Dtype  \n---  ------         --------------  -----  \n 0   1stFlrSF       4 non-null      int64  \n 1   2ndFlrSF       4 non-null      int64  \n 2   BedroomAbvGr   4 non-null      int64  \n 3   BsmtExposure   4 non-null      object \n 4   BsmtFinSF1     4 non-null      float64\n 5   BsmtFinType1   4 non-null      object \n 6   BsmtUnfSF      4 non-null      float64\n 7   EnclosedPorch  4 non-null      int64  \n 8   GarageArea     4 non-null      float64\n 9   GarageFinish   4 non-null      object \n 10  GarageYrBlt    4 non-null      float64\n 11  GrLivArea      4 non-null      int64  \n 12  KitchenQual    4 non-null      object \n 13  LotArea        4 non-null      int64  \n 14  LotFrontage    4 non-null      float64\n 15  MasVnrArea     4 non-null      float64\n 16  OpenPorchSF    4 non-null      int64  \n 17  OverallCond    4 non-null      int64  \n 18  OverallQual    4 non-null      int64  \n 19  TotalBsmtSF    4 non-null      float64\n 20  WoodDeckSF     4 non-null      int64  \n 21  YearBuilt      4 non-null      int64  \n 22  YearRemodAdd   4 non-null      int64  \ndtypes: float64(7), int64(12), object(4)\nmemory usage: 864.0+ bytes\n"
        }
      ],
      "source": [
        "df2.info()"
      ]
    },
    {
      "cell_type": "markdown",
      "metadata": {
        "id": "-mavJ8DibrcQ"
      },
      "source": [
        "# Section 1"
      ]
    },
    {
      "cell_type": "markdown",
      "metadata": {},
      "source": [
        "Section 1 content"
      ]
    },
    {
      "cell_type": "code",
      "execution_count": null,
      "metadata": {},
      "outputs": [],
      "source": []
    },
    {
      "cell_type": "markdown",
      "metadata": {
        "id": "ZY3l0-AxO93d"
      },
      "source": [
        "---"
      ]
    },
    {
      "cell_type": "markdown",
      "metadata": {
        "id": "uFQo3ycuO-v6"
      },
      "source": [
        "# Section 2"
      ]
    },
    {
      "cell_type": "markdown",
      "metadata": {},
      "source": [
        "Section 2 content"
      ]
    },
    {
      "cell_type": "code",
      "execution_count": null,
      "metadata": {},
      "outputs": [],
      "source": []
    },
    {
      "cell_type": "markdown",
      "metadata": {},
      "source": [
        "---"
      ]
    },
    {
      "cell_type": "markdown",
      "metadata": {},
      "source": [
        "NOTE"
      ]
    },
    {
      "cell_type": "markdown",
      "metadata": {},
      "source": [
        "* You may add as many sections as you want, as long as they support your project workflow.\n",
        "* All notebook's cells should be run top-down (you can't create a dynamic wherein a given point you need to go back to a previous cell to execute some task, like go back to a previous cell and refresh a variable content)"
      ]
    },
    {
      "cell_type": "markdown",
      "metadata": {},
      "source": [
        "---"
      ]
    },
    {
      "cell_type": "markdown",
      "metadata": {
        "id": "ltNetd085qHf"
      },
      "source": [
        "# Push files to Repo"
      ]
    },
    {
      "cell_type": "markdown",
      "metadata": {},
      "source": [
        "* If you do not need to push files to Repo, you may replace this section with \"Conclusions and Next Steps\" and state your conclusions and next steps."
      ]
    },
    {
      "cell_type": "code",
      "execution_count": 15,
      "metadata": {
        "id": "aKlnIozA4eQO",
        "outputId": "fd09bc1f-adb1-4511-f6ce-492a6af570c0"
      },
      "outputs": [
        {
          "output_type": "error",
          "ename": "IndentationError",
          "evalue": "expected an indented block (2852421808.py, line 5)",
          "traceback": [
            "\u001b[0;36m  Cell \u001b[0;32mIn[15], line 5\u001b[0;36m\u001b[0m\n\u001b[0;31m    except Exception as e:\u001b[0m\n\u001b[0m    ^\u001b[0m\n\u001b[0;31mIndentationError\u001b[0m\u001b[0;31m:\u001b[0m expected an indented block\n"
          ]
        }
      ],
      "source": [
        "import os\n",
        "try:\n",
        "  # create here your folder\n",
        "  # os.makedirs(name='')\n",
        "except Exception as e:\n",
        "  print(e)\n"
      ]
    }
  ],
  "metadata": {
    "accelerator": "GPU",
    "colab": {
      "name": "Data Practitioner Jupyter Notebook.ipynb",
      "provenance": [],
      "toc_visible": true
    },
    "interpreter": {
      "hash": "8b8334dab9339717f727a1deaf837b322d7a41c20d15cc86be99a8e69ceec8ce"
    },
    "kernelspec": {
      "display_name": "Python 3.8.12 64-bit ('3.8.12': pyenv)",
      "name": "python381264bit3812pyenvb9cb1d9bde2b40e988243ec48168ac55"
    },
    "language_info": {
      "codemirror_mode": {
        "name": "ipython",
        "version": 3
      },
      "file_extension": ".py",
      "mimetype": "text/x-python",
      "name": "python",
      "nbconvert_exporter": "python",
      "pygments_lexer": "ipython3",
      "version": "3.8.12-final"
    },
    "orig_nbformat": 2
  },
  "nbformat": 4,
  "nbformat_minor": 2
}