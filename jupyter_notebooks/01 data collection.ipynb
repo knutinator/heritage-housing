{
  "cells": [
    {
      "cell_type": "markdown",
      "metadata": {
        "id": "0aStgWSO0E0E"
      },
      "source": [
        "# **(Data Collection)**"
      ]
    },
    {
      "cell_type": "markdown",
      "metadata": {
        "id": "1eLEkw5O0ECa"
      },
      "source": [
        "## Objectives\n",
        "\n",
        "* Fetch data from Kaggle and save it as raw data.\n",
        "* Inspect the data and save it under outputs/datasets/collection\n",
        "\n",
        "## Inputs\n",
        "\n",
        "*   Kaggle JSON file - the authentication token.\n",
        "\n",
        "## Outputs\n",
        "\n",
        "* Generate Dataset: - ../outputs/datasets/collection\n",
        "\n",
        "## Additional Comments\n"
      ]
    },
    {
      "cell_type": "markdown",
      "metadata": {
        "id": "9uWZXH9LwoQg"
      },
      "source": [
        "---"
      ]
    },
    {
      "cell_type": "markdown",
      "metadata": {
        "id": "cqP-UeN-z3i2"
      },
      "source": [
        "# Change working directory"
      ]
    },
    {
      "cell_type": "markdown",
      "metadata": {
        "id": "aOGIGS-uz3i2"
      },
      "source": [
        "We need to change the working directory from its current folder to its parent folder\n",
        "* We access the current directory with os.getcwd()"
      ]
    },
    {
      "cell_type": "code",
      "execution_count": 18,
      "metadata": {
        "id": "wZfF_j-Bz3i4",
        "outputId": "66943449-1436-4c3d-85c7-b85f9f78349b"
      },
      "outputs": [
        {
          "output_type": "execute_result",
          "data": {
            "text/plain": "'/workspaces/heritage-housing/jupyter_notebooks'"
          },
          "metadata": {},
          "execution_count": 18
        }
      ],
      "source": [
        "import os\n",
        "current_dir = os.getcwd()\n",
        "current_dir"
      ]
    },
    {
      "source": [
        "We want to make the parent of the current directory the new current directory.\n",
        "* os.path.dirname() gets the parent directory\n",
        "* os.chir() defines the new current directory"
      ],
      "cell_type": "markdown",
      "metadata": {}
    },
    {
      "cell_type": "code",
      "execution_count": 19,
      "metadata": {
        "tags": []
      },
      "outputs": [
        {
          "output_type": "stream",
          "name": "stdout",
          "text": "You set a new current directory\n"
        }
      ],
      "source": [
        "os.chdir(os.path.dirname(current_dir))\n",
        "print(\"You set a new current directory\")"
      ]
    },
    {
      "source": [
        "\n",
        "\n",
        "Confirm the new current directory"
      ],
      "cell_type": "markdown",
      "metadata": {}
    },
    {
      "cell_type": "code",
      "execution_count": 20,
      "metadata": {},
      "outputs": [
        {
          "output_type": "execute_result",
          "data": {
            "text/plain": "'/workspaces/heritage-housing'"
          },
          "metadata": {},
          "execution_count": 20
        }
      ],
      "source": [
        "current_dir = os.getcwd()\n",
        "current_dir"
      ]
    },
    {
      "source": [
        "----------\n"
      ],
      "cell_type": "markdown",
      "metadata": {}
    },
    {
      "source": [
        "# Install python packages in the notebooks"
      ],
      "cell_type": "markdown",
      "metadata": {}
    },
    {
      "cell_type": "code",
      "execution_count": 21,
      "metadata": {
        "tags": [
          "outputPrepend"
        ]
      },
      "outputs": [
        {
          "output_type": "stream",
          "name": "stdout",
          "text": "1.1 in /home/codeany/.pyenv/versions/3.8.12/lib/python3.8/site-packages (from -r /workspaces/heritage-housing/requirements.txt (line 16)) (3.1.1)\nRequirement already satisfied: MarkupSafe==2.0.1 in /home/codeany/.pyenv/versions/3.8.12/lib/python3.8/site-packages (from -r /workspaces/heritage-housing/requirements.txt (line 17)) (2.0.1)\nRequirement already satisfied: protobuf==3.20 in /home/codeany/.pyenv/versions/3.8.12/lib/python3.8/site-packages (from -r /workspaces/heritage-housing/requirements.txt (line 18)) (3.20.0)\nRequirement already satisfied: ipywidgets==8.0.2 in /home/codeany/.pyenv/versions/3.8.12/lib/python3.8/site-packages (from -r /workspaces/heritage-housing/requirements.txt (line 19)) (8.0.2)\nRequirement already satisfied: python-dateutil>=2.8.1 in /home/codeany/.pyenv/versions/3.8.12/lib/python3.8/site-packages (from pandas==1.4.2->-r /workspaces/heritage-housing/requirements.txt (line 2)) (2.8.2)\nRequirement already satisfied: pytz>=2020.1 in /home/codeany/.pyenv/versions/3.8.12/lib/python3.8/site-packages (from pandas==1.4.2->-r /workspaces/heritage-housing/requirements.txt (line 2)) (2023.3)\nRequirement already satisfied: certifi>=2020.06.20 in /home/codeany/.pyenv/versions/3.8.12/lib/python3.8/site-packages (from matplotlib==3.3.1->-r /workspaces/heritage-housing/requirements.txt (line 3)) (2023.5.7)\nRequirement already satisfied: cycler>=0.10 in /home/codeany/.pyenv/versions/3.8.12/lib/python3.8/site-packages (from matplotlib==3.3.1->-r /workspaces/heritage-housing/requirements.txt (line 3)) (0.11.0)\nRequirement already satisfied: kiwisolver>=1.0.1 in /home/codeany/.pyenv/versions/3.8.12/lib/python3.8/site-packages (from matplotlib==3.3.1->-r /workspaces/heritage-housing/requirements.txt (line 3)) (1.4.4)\nRequirement already satisfied: pillow>=6.2.0 in /home/codeany/.pyenv/versions/3.8.12/lib/python3.8/site-packages (from matplotlib==3.3.1->-r /workspaces/heritage-housing/requirements.txt (line 3)) (9.5.0)\nRequirement already satisfied: pyparsing!=2.0.4,!=2.1.2,!=2.1.6,>=2.0.3 in /home/codeany/.pyenv/versions/3.8.12/lib/python3.8/site-packages (from matplotlib==3.3.1->-r /workspaces/heritage-housing/requirements.txt (line 3)) (3.0.9)\nRequirement already satisfied: scipy>=1.0 in /home/codeany/.pyenv/versions/3.8.12/lib/python3.8/site-packages (from seaborn==0.11.0->-r /workspaces/heritage-housing/requirements.txt (line 4)) (1.9.3)\nRequirement already satisfied: joblib~=1.0.1 in /home/codeany/.pyenv/versions/3.8.12/lib/python3.8/site-packages (from pandas-profiling==3.1.0->-r /workspaces/heritage-housing/requirements.txt (line 5)) (1.0.1)\nRequirement already satisfied: pydantic>=1.8.1 in /home/codeany/.pyenv/versions/3.8.12/lib/python3.8/site-packages (from pandas-profiling==3.1.0->-r /workspaces/heritage-housing/requirements.txt (line 5)) (1.10.7)\nRequirement already satisfied: PyYAML>=5.0.0 in /home/codeany/.pyenv/versions/3.8.12/lib/python3.8/site-packages (from pandas-profiling==3.1.0->-r /workspaces/heritage-housing/requirements.txt (line 5)) (6.0)\nRequirement already satisfied: visions[type_image_path]==0.7.4 in /home/codeany/.pyenv/versions/3.8.12/lib/python3.8/site-packages (from pandas-profiling==3.1.0->-r /workspaces/heritage-housing/requirements.txt (line 5)) (0.7.4)\nRequirement already satisfied: htmlmin>=0.1.12 in /home/codeany/.pyenv/versions/3.8.12/lib/python3.8/site-packages (from pandas-profiling==3.1.0->-r /workspaces/heritage-housing/requirements.txt (line 5)) (0.1.12)\nRequirement already satisfied: missingno>=0.4.2 in /home/codeany/.pyenv/versions/3.8.12/lib/python3.8/site-packages (from pandas-profiling==3.1.0->-r /workspaces/heritage-housing/requirements.txt (line 5)) (0.5.2)\nRequirement already satisfied: phik>=0.11.1 in /home/codeany/.pyenv/versions/3.8.12/lib/python3.8/site-packages (from pandas-profiling==3.1.0->-r /workspaces/heritage-housing/requirements.txt (line 5)) (0.12.3)\nRequirement already satisfied: tangled-up-in-unicode==0.1.0 in /home/codeany/.pyenv/versions/3.8.12/lib/python3.8/site-packages (from pandas-profiling==3.1.0->-r /workspaces/heritage-housing/requirements.txt (line 5)) (0.1.0)\nRequirement already satisfied: requests>=2.24.0 in /home/codeany/.pyenv/versions/3.8.12/lib/python3.8/site-packages (from pandas-profiling==3.1.0->-r /workspaces/heritage-housing/requirements.txt (line 5)) (2.30.0)\nRequirement already satisfied: tqdm>=4.48.2 in /home/codeany/.pyenv/versions/3.8.12/lib/python3.8/site-packages (from pandas-profiling==3.1.0->-r /workspaces/heritage-housing/requirements.txt (line 5)) (4.65.0)\nRequirement already satisfied: multimethod>=1.4 in /home/codeany/.pyenv/versions/3.8.12/lib/python3.8/site-packages (from pandas-profiling==3.1.0->-r /workspaces/heritage-housing/requirements.txt (line 5)) (1.9.1)\nRequirement already satisfied: retrying>=1.3.3 in /home/codeany/.pyenv/versions/3.8.12/lib/python3.8/site-packages (from plotly==4.12.0->-r /workspaces/heritage-housing/requirements.txt (line 6)) (1.3.4)\nRequirement already satisfied: six in /home/codeany/.pyenv/versions/3.8.12/lib/python3.8/site-packages (from plotly==4.12.0->-r /workspaces/heritage-housing/requirements.txt (line 6)) (1.16.0)\nRequirement already satisfied: altair>=3.2.0 in /home/codeany/.pyenv/versions/3.8.12/lib/python3.8/site-packages (from streamlit==0.85.0->-r /workspaces/heritage-housing/requirements.txt (line 9)) (5.0.0)\nRequirement already satisfied: astor in /home/codeany/.pyenv/versions/3.8.12/lib/python3.8/site-packages (from streamlit==0.85.0->-r /workspaces/heritage-housing/requirements.txt (line 9)) (0.8.1)\nRequirement already satisfied: attrs in /home/codeany/.pyenv/versions/3.8.12/lib/python3.8/site-packages (from streamlit==0.85.0->-r /workspaces/heritage-housing/requirements.txt (line 9)) (23.1.0)\nRequirement already satisfied: base58 in /home/codeany/.pyenv/versions/3.8.12/lib/python3.8/site-packages (from streamlit==0.85.0->-r /workspaces/heritage-housing/requirements.txt (line 9)) (2.1.1)\nRequirement already satisfied: blinker in /home/codeany/.pyenv/versions/3.8.12/lib/python3.8/site-packages (from streamlit==0.85.0->-r /workspaces/heritage-housing/requirements.txt (line 9)) (1.6.2)\nRequirement already satisfied: cachetools>=4.0 in /home/codeany/.pyenv/versions/3.8.12/lib/python3.8/site-packages (from streamlit==0.85.0->-r /workspaces/heritage-housing/requirements.txt (line 9)) (5.3.0)\nRequirement already satisfied: click<8.0,>=7.0 in /home/codeany/.pyenv/versions/3.8.12/lib/python3.8/site-packages (from streamlit==0.85.0->-r /workspaces/heritage-housing/requirements.txt (line 9)) (7.1.2)\nRequirement already satisfied: packaging in /home/codeany/.pyenv/versions/3.8.12/lib/python3.8/site-packages (from streamlit==0.85.0->-r /workspaces/heritage-housing/requirements.txt (line 9)) (23.1)\nRequirement already satisfied: pyarrow in /home/codeany/.pyenv/versions/3.8.12/lib/python3.8/site-packages (from streamlit==0.85.0->-r /workspaces/heritage-housing/requirements.txt (line 9)) (12.0.0)\nRequirement already satisfied: pydeck>=0.1.dev5 in /home/codeany/.pyenv/versions/3.8.12/lib/python3.8/site-packages (from streamlit==0.85.0->-r /workspaces/heritage-housing/requirements.txt (line 9)) (0.8.1b0)\nRequirement already satisfied: toml in /home/codeany/.pyenv/versions/3.8.12/lib/python3.8/site-packages (from streamlit==0.85.0->-r /workspaces/heritage-housing/requirements.txt (line 9)) (0.10.2)\nRequirement already satisfied: tornado>=5.0 in /home/codeany/.pyenv/versions/3.8.12/lib/python3.8/site-packages (from streamlit==0.85.0->-r /workspaces/heritage-housing/requirements.txt (line 9)) (6.3.1)\nRequirement already satisfied: tzlocal in /home/codeany/.pyenv/versions/3.8.12/lib/python3.8/site-packages (from streamlit==0.85.0->-r /workspaces/heritage-housing/requirements.txt (line 9)) (4.3)\nRequirement already satisfied: validators in /home/codeany/.pyenv/versions/3.8.12/lib/python3.8/site-packages (from streamlit==0.85.0->-r /workspaces/heritage-housing/requirements.txt (line 9)) (0.20.0)\nRequirement already satisfied: gitpython in /home/codeany/.pyenv/versions/3.8.12/lib/python3.8/site-packages (from streamlit==0.85.0->-r /workspaces/heritage-housing/requirements.txt (line 9)) (3.1.31)\nRequirement already satisfied: watchdog in /home/codeany/.pyenv/versions/3.8.12/lib/python3.8/site-packages (from streamlit==0.85.0->-r /workspaces/heritage-housing/requirements.txt (line 9)) (3.0.0)\nRequirement already satisfied: statsmodels>=0.11.1 in /home/codeany/.pyenv/versions/3.8.12/lib/python3.8/site-packages (from feature-engine==1.0.2->-r /workspaces/heritage-housing/requirements.txt (line 11)) (0.14.0)\nRequirement already satisfied: threadpoolctl>=2.0.0 in /home/codeany/.pyenv/versions/3.8.12/lib/python3.8/site-packages (from scikit-learn==0.24.2->-r /workspaces/heritage-housing/requirements.txt (line 13)) (3.1.0)\nRequirement already satisfied: ipykernel>=4.5.1 in /home/codeany/.pyenv/versions/3.8.12/lib/python3.8/site-packages (from ipywidgets==8.0.2->-r /workspaces/heritage-housing/requirements.txt (line 19)) (6.23.0)\nRequirement already satisfied: ipython>=6.1.0 in /home/codeany/.pyenv/versions/3.8.12/lib/python3.8/site-packages (from ipywidgets==8.0.2->-r /workspaces/heritage-housing/requirements.txt (line 19)) (8.12.2)\nRequirement already satisfied: traitlets>=4.3.1 in /home/codeany/.pyenv/versions/3.8.12/lib/python3.8/site-packages (from ipywidgets==8.0.2->-r /workspaces/heritage-housing/requirements.txt (line 19)) (5.9.0)\nRequirement already satisfied: widgetsnbextension~=4.0 in /home/codeany/.pyenv/versions/3.8.12/lib/python3.8/site-packages (from ipywidgets==8.0.2->-r /workspaces/heritage-housing/requirements.txt (line 19)) (4.0.7)\nRequirement already satisfied: jupyterlab-widgets~=3.0 in /home/codeany/.pyenv/versions/3.8.12/lib/python3.8/site-packages (from ipywidgets==8.0.2->-r /workspaces/heritage-housing/requirements.txt (line 19)) (3.0.7)\nRequirement already satisfied: networkx>=2.4 in /home/codeany/.pyenv/versions/3.8.12/lib/python3.8/site-packages (from visions[type_image_path]==0.7.4->pandas-profiling==3.1.0->-r /workspaces/heritage-housing/requirements.txt (line 5)) (3.1)\nRequirement already satisfied: imagehash in /home/codeany/.pyenv/versions/3.8.12/lib/python3.8/site-packages (from visions[type_image_path]==0.7.4->pandas-profiling==3.1.0->-r /workspaces/heritage-housing/requirements.txt (line 5)) (4.3.1)\nRequirement already satisfied: jsonschema>=3.0 in /home/codeany/.pyenv/versions/3.8.12/lib/python3.8/site-packages (from altair>=3.2.0->streamlit==0.85.0->-r /workspaces/heritage-housing/requirements.txt (line 9)) (4.17.3)\nRequirement already satisfied: toolz in /home/codeany/.pyenv/versions/3.8.12/lib/python3.8/site-packages (from altair>=3.2.0->streamlit==0.85.0->-r /workspaces/heritage-housing/requirements.txt (line 9)) (0.12.0)\nRequirement already satisfied: typing-extensions>=4.0.1 in /home/codeany/.pyenv/versions/3.8.12/lib/python3.8/site-packages (from altair>=3.2.0->streamlit==0.85.0->-r /workspaces/heritage-housing/requirements.txt (line 9)) (4.5.0)\nRequirement already satisfied: comm>=0.1.1 in /home/codeany/.pyenv/versions/3.8.12/lib/python3.8/site-packages (from ipykernel>=4.5.1->ipywidgets==8.0.2->-r /workspaces/heritage-housing/requirements.txt (line 19)) (0.1.3)\nRequirement already satisfied: debugpy>=1.6.5 in /home/codeany/.pyenv/versions/3.8.12/lib/python3.8/site-packages (from ipykernel>=4.5.1->ipywidgets==8.0.2->-r /workspaces/heritage-housing/requirements.txt (line 19)) (1.6.7)\nRequirement already satisfied: jupyter-client>=6.1.12 in /home/codeany/.pyenv/versions/3.8.12/lib/python3.8/site-packages (from ipykernel>=4.5.1->ipywidgets==8.0.2->-r /workspaces/heritage-housing/requirements.txt (line 19)) (8.2.0)\nRequirement already satisfied: jupyter-core!=5.0.*,>=4.12 in /home/codeany/.pyenv/versions/3.8.12/lib/python3.8/site-packages (from ipykernel>=4.5.1->ipywidgets==8.0.2->-r /workspaces/heritage-housing/requirements.txt (line 19)) (5.3.0)\nRequirement already satisfied: matplotlib-inline>=0.1 in /home/codeany/.pyenv/versions/3.8.12/lib/python3.8/site-packages (from ipykernel>=4.5.1->ipywidgets==8.0.2->-r /workspaces/heritage-housing/requirements.txt (line 19)) (0.1.6)\nRequirement already satisfied: nest-asyncio in /home/codeany/.pyenv/versions/3.8.12/lib/python3.8/site-packages (from ipykernel>=4.5.1->ipywidgets==8.0.2->-r /workspaces/heritage-housing/requirements.txt (line 19)) (1.5.6)\nRequirement already satisfied: psutil in /home/codeany/.pyenv/versions/3.8.12/lib/python3.8/site-packages (from ipykernel>=4.5.1->ipywidgets==8.0.2->-r /workspaces/heritage-housing/requirements.txt (line 19)) (5.9.5)\nRequirement already satisfied: pyzmq>=20 in /home/codeany/.pyenv/versions/3.8.12/lib/python3.8/site-packages (from ipykernel>=4.5.1->ipywidgets==8.0.2->-r /workspaces/heritage-housing/requirements.txt (line 19)) (25.0.2)\nRequirement already satisfied: backcall in /home/codeany/.pyenv/versions/3.8.12/lib/python3.8/site-packages (from ipython>=6.1.0->ipywidgets==8.0.2->-r /workspaces/heritage-housing/requirements.txt (line 19)) (0.2.0)\nRequirement already satisfied: decorator in /home/codeany/.pyenv/versions/3.8.12/lib/python3.8/site-packages (from ipython>=6.1.0->ipywidgets==8.0.2->-r /workspaces/heritage-housing/requirements.txt (line 19)) (5.1.1)\nRequirement already satisfied: jedi>=0.16 in /home/codeany/.pyenv/versions/3.8.12/lib/python3.8/site-packages (from ipython>=6.1.0->ipywidgets==8.0.2->-r /workspaces/heritage-housing/requirements.txt (line 19)) (0.18.2)\nRequirement already satisfied: pickleshare in /home/codeany/.pyenv/versions/3.8.12/lib/python3.8/site-packages (from ipython>=6.1.0->ipywidgets==8.0.2->-r /workspaces/heritage-housing/requirements.txt (line 19)) (0.7.5)\nRequirement already satisfied: prompt-toolkit!=3.0.37,<3.1.0,>=3.0.30 in /home/codeany/.pyenv/versions/3.8.12/lib/python3.8/site-packages (from ipython>=6.1.0->ipywidgets==8.0.2->-r /workspaces/heritage-housing/requirements.txt (line 19)) (3.0.38)\nRequirement already satisfied: pygments>=2.4.0 in /home/codeany/.pyenv/versions/3.8.12/lib/python3.8/site-packages (from ipython>=6.1.0->ipywidgets==8.0.2->-r /workspaces/heritage-housing/requirements.txt (line 19)) (2.15.1)\nRequirement already satisfied: stack-data in /home/codeany/.pyenv/versions/3.8.12/lib/python3.8/site-packages (from ipython>=6.1.0->ipywidgets==8.0.2->-r /workspaces/heritage-housing/requirements.txt (line 19)) (0.6.2)\nRequirement already satisfied: pexpect>4.3 in /home/codeany/.pyenv/versions/3.8.12/lib/python3.8/site-packages (from ipython>=6.1.0->ipywidgets==8.0.2->-r /workspaces/heritage-housing/requirements.txt (line 19)) (4.8.0)\nRequirement already satisfied: charset-normalizer<4,>=2 in /home/codeany/.pyenv/versions/3.8.12/lib/python3.8/site-packages (from requests>=2.24.0->pandas-profiling==3.1.0->-r /workspaces/heritage-housing/requirements.txt (line 5)) (3.1.0)\nRequirement already satisfied: idna<4,>=2.5 in /home/codeany/.pyenv/versions/3.8.12/lib/python3.8/site-packages (from requests>=2.24.0->pandas-profiling==3.1.0->-r /workspaces/heritage-housing/requirements.txt (line 5)) (3.4)\nRequirement already satisfied: urllib3<3,>=1.21.1 in /home/codeany/.pyenv/versions/3.8.12/lib/python3.8/site-packages (from requests>=2.24.0->pandas-profiling==3.1.0->-r /workspaces/heritage-housing/requirements.txt (line 5)) (2.0.2)\nRequirement already satisfied: patsy>=0.5.2 in /home/codeany/.pyenv/versions/3.8.12/lib/python3.8/site-packages (from statsmodels>=0.11.1->feature-engine==1.0.2->-r /workspaces/heritage-housing/requirements.txt (line 11)) (0.5.3)\nRequirement already satisfied: gitdb<5,>=4.0.1 in /home/codeany/.pyenv/versions/3.8.12/lib/python3.8/site-packages (from gitpython->streamlit==0.85.0->-r /workspaces/heritage-housing/requirements.txt (line 9)) (4.0.10)\nRequirement already satisfied: pytz-deprecation-shim in /home/codeany/.pyenv/versions/3.8.12/lib/python3.8/site-packages (from tzlocal->streamlit==0.85.0->-r /workspaces/heritage-housing/requirements.txt (line 9)) (0.1.0.post0)\nRequirement already satisfied: backports.zoneinfo in /home/codeany/.pyenv/versions/3.8.12/lib/python3.8/site-packages (from tzlocal->streamlit==0.85.0->-r /workspaces/heritage-housing/requirements.txt (line 9)) (0.2.1)\nRequirement already satisfied: smmap<6,>=3.0.1 in /home/codeany/.pyenv/versions/3.8.12/lib/python3.8/site-packages (from gitdb<5,>=4.0.1->gitpython->streamlit==0.85.0->-r /workspaces/heritage-housing/requirements.txt (line 9)) (5.0.0)\nRequirement already satisfied: parso<0.9.0,>=0.8.0 in /home/codeany/.pyenv/versions/3.8.12/lib/python3.8/site-packages (from jedi>=0.16->ipython>=6.1.0->ipywidgets==8.0.2->-r /workspaces/heritage-housing/requirements.txt (line 19)) (0.8.3)\nRequirement already satisfied: importlib-resources>=1.4.0 in /home/codeany/.pyenv/versions/3.8.12/lib/python3.8/site-packages (from jsonschema>=3.0->altair>=3.2.0->streamlit==0.85.0->-r /workspaces/heritage-housing/requirements.txt (line 9)) (5.12.0)\nRequirement already satisfied: pkgutil-resolve-name>=1.3.10 in /home/codeany/.pyenv/versions/3.8.12/lib/python3.8/site-packages (from jsonschema>=3.0->altair>=3.2.0->streamlit==0.85.0->-r /workspaces/heritage-housing/requirements.txt (line 9)) (1.3.10)\nRequirement already satisfied: pyrsistent!=0.17.0,!=0.17.1,!=0.17.2,>=0.14.0 in /home/codeany/.pyenv/versions/3.8.12/lib/python3.8/site-packages (from jsonschema>=3.0->altair>=3.2.0->streamlit==0.85.0->-r /workspaces/heritage-housing/requirements.txt (line 9)) (0.19.3)\nRequirement already satisfied: importlib-metadata>=4.8.3 in /home/codeany/.pyenv/versions/3.8.12/lib/python3.8/site-packages (from jupyter-client>=6.1.12->ipykernel>=4.5.1->ipywidgets==8.0.2->-r /workspaces/heritage-housing/requirements.txt (line 19)) (6.6.0)\nRequirement already satisfied: platformdirs>=2.5 in /home/codeany/.pyenv/versions/3.8.12/lib/python3.8/site-packages (from jupyter-core!=5.0.*,>=4.12->ipykernel>=4.5.1->ipywidgets==8.0.2->-r /workspaces/heritage-housing/requirements.txt (line 19)) (3.5.0)\nRequirement already satisfied: ptyprocess>=0.5 in /home/codeany/.pyenv/versions/3.8.12/lib/python3.8/site-packages (from pexpect>4.3->ipython>=6.1.0->ipywidgets==8.0.2->-r /workspaces/heritage-housing/requirements.txt (line 19)) (0.7.0)\nRequirement already satisfied: wcwidth in /home/codeany/.pyenv/versions/3.8.12/lib/python3.8/site-packages (from prompt-toolkit!=3.0.37,<3.1.0,>=3.0.30->ipython>=6.1.0->ipywidgets==8.0.2->-r /workspaces/heritage-housing/requirements.txt (line 19)) (0.2.6)\nRequirement already satisfied: PyWavelets in /home/codeany/.pyenv/versions/3.8.12/lib/python3.8/site-packages (from imagehash->visions[type_image_path]==0.7.4->pandas-profiling==3.1.0->-r /workspaces/heritage-housing/requirements.txt (line 5)) (1.4.1)\nRequirement already satisfied: tzdata in /home/codeany/.pyenv/versions/3.8.12/lib/python3.8/site-packages (from pytz-deprecation-shim->tzlocal->streamlit==0.85.0->-r /workspaces/heritage-housing/requirements.txt (line 9)) (2023.3)\nRequirement already satisfied: executing>=1.2.0 in /home/codeany/.pyenv/versions/3.8.12/lib/python3.8/site-packages (from stack-data->ipython>=6.1.0->ipywidgets==8.0.2->-r /workspaces/heritage-housing/requirements.txt (line 19)) (1.2.0)\nRequirement already satisfied: asttokens>=2.1.0 in /home/codeany/.pyenv/versions/3.8.12/lib/python3.8/site-packages (from stack-data->ipython>=6.1.0->ipywidgets==8.0.2->-r /workspaces/heritage-housing/requirements.txt (line 19)) (2.2.1)\nRequirement already satisfied: pure-eval in /home/codeany/.pyenv/versions/3.8.12/lib/python3.8/site-packages (from stack-data->ipython>=6.1.0->ipywidgets==8.0.2->-r /workspaces/heritage-housing/requirements.txt (line 19)) (0.2.2)\nRequirement already satisfied: zipp>=0.5 in /home/codeany/.pyenv/versions/3.8.12/lib/python3.8/site-packages (from importlib-metadata>=4.8.3->jupyter-client>=6.1.12->ipykernel>=4.5.1->ipywidgets==8.0.2->-r /workspaces/heritage-housing/requirements.txt (line 19)) (3.15.0)\nNote: you may need to restart the kernel to use updated packages.\n"
        }
      ],
      "source": [
        "%pip install -r /workspaces/heritage-housing/requirements.txt"
      ]
    },
    {
      "source": [
        "-------"
      ],
      "cell_type": "markdown",
      "metadata": {}
    },
    {
      "source": [
        "# Fetch data from Kaggle"
      ],
      "cell_type": "markdown",
      "metadata": {}
    },
    {
      "cell_type": "code",
      "execution_count": 22,
      "metadata": {
        "tags": []
      },
      "outputs": [
        {
          "output_type": "stream",
          "name": "stdout",
          "text": "Requirement already satisfied: kaggle in /home/codeany/.pyenv/versions/3.8.12/lib/python3.8/site-packages (1.5.12)\nRequirement already satisfied: six>=1.10 in /home/codeany/.pyenv/versions/3.8.12/lib/python3.8/site-packages (from kaggle) (1.16.0)\nRequirement already satisfied: certifi in /home/codeany/.pyenv/versions/3.8.12/lib/python3.8/site-packages (from kaggle) (2023.5.7)\nRequirement already satisfied: python-dateutil in /home/codeany/.pyenv/versions/3.8.12/lib/python3.8/site-packages (from kaggle) (2.8.2)\nRequirement already satisfied: requests in /home/codeany/.pyenv/versions/3.8.12/lib/python3.8/site-packages (from kaggle) (2.30.0)\nRequirement already satisfied: tqdm in /home/codeany/.pyenv/versions/3.8.12/lib/python3.8/site-packages (from kaggle) (4.65.0)\nRequirement already satisfied: python-slugify in /home/codeany/.pyenv/versions/3.8.12/lib/python3.8/site-packages (from kaggle) (8.0.1)\nRequirement already satisfied: urllib3 in /home/codeany/.pyenv/versions/3.8.12/lib/python3.8/site-packages (from kaggle) (2.0.2)\nRequirement already satisfied: text-unidecode>=1.3 in /home/codeany/.pyenv/versions/3.8.12/lib/python3.8/site-packages (from python-slugify->kaggle) (1.3)\nRequirement already satisfied: charset-normalizer<4,>=2 in /home/codeany/.pyenv/versions/3.8.12/lib/python3.8/site-packages (from requests->kaggle) (3.1.0)\nRequirement already satisfied: idna<4,>=2.5 in /home/codeany/.pyenv/versions/3.8.12/lib/python3.8/site-packages (from requests->kaggle) (3.4)\n"
        }
      ],
      "source": [
        "!pip install --user kaggle"
      ]
    },
    {
      "cell_type": "code",
      "execution_count": 23,
      "metadata": {
        "tags": []
      },
      "outputs": [],
      "source": [
        "import os\n",
        "os.environ['KAGGLE_CONFIG_DIR'] = os.getcwd()\n",
        "! chmod 600 kaggle.json"
      ]
    },
    {
      "cell_type": "code",
      "execution_count": 24,
      "metadata": {
        "tags": []
      },
      "outputs": [
        {
          "output_type": "stream",
          "name": "stdout",
          "text": "Downloading housing-prices-data.zip to inputs/datasets/raw\n  0%|                                               | 0.00/49.6k [00:00<?, ?B/s]\n100%|██████████████████████████████████████| 49.6k/49.6k [00:00<00:00, 14.4MB/s]\n"
        }
      ],
      "source": [
        "KaggleDatasetPath = \"codeinstitute/housing-prices-data\"\n",
        "DestinationFolder = \"inputs/datasets/raw\"   \n",
        "! kaggle datasets download -d {KaggleDatasetPath} -p {DestinationFolder}"
      ]
    },
    {
      "cell_type": "code",
      "execution_count": 25,
      "metadata": {
        "tags": []
      },
      "outputs": [
        {
          "output_type": "stream",
          "name": "stdout",
          "text": "Archive:  inputs/datasets/raw/housing-prices-data.zip\n  inflating: inputs/datasets/raw/house-metadata.txt  \n  inflating: inputs/datasets/raw/house-price-20211124T154130Z-001/house-price/house_prices_records.csv  \n  inflating: inputs/datasets/raw/house-price-20211124T154130Z-001/house-price/inherited_houses.csv  \n"
        }
      ],
      "source": [
        "! unzip {DestinationFolder}/*.zip -d {DestinationFolder} \\\n",
        "  && rm {DestinationFolder}/*.zip \\\n",
        "  && rm kaggle.json"
      ]
    },
    {
      "source": [
        "-------"
      ],
      "cell_type": "markdown",
      "metadata": {}
    },
    {
      "source": [
        "# Load and Inspect Kaggle data"
      ],
      "cell_type": "markdown",
      "metadata": {}
    },
    {
      "source": [
        "## House Price Records data"
      ],
      "cell_type": "markdown",
      "metadata": {}
    },
    {
      "cell_type": "code",
      "execution_count": 32,
      "metadata": {},
      "outputs": [
        {
          "output_type": "execute_result",
          "data": {
            "text/plain": "    1stFlrSF  2ndFlrSF  BedroomAbvGr BsmtExposure  BsmtFinSF1 BsmtFinType1  \\\n0        856     854.0           3.0           No         706          GLQ   \n1       1262       0.0           3.0           Gd         978          ALQ   \n2        920     866.0           3.0           Mn         486          GLQ   \n3        961       NaN           NaN           No         216          ALQ   \n4       1145       NaN           4.0           Av         655          GLQ   \n5        796     566.0           1.0           No         732          GLQ   \n6       1694       0.0           3.0           Av        1369          GLQ   \n7       1107     983.0           3.0           Mn         859          ALQ   \n8       1022     752.0           2.0           No           0          Unf   \n9       1077       0.0           2.0           No         851          GLQ   \n10      1040       0.0           3.0           No         906          Rec   \n11      1182    1142.0           4.0           No         998          NaN   \n12       912       0.0           2.0           No         737          ALQ   \n13      1494       0.0           3.0           Av           0          Unf   \n14      1253       0.0           NaN           No         733          BLQ   \n15       854       0.0           2.0           No           0          Unf   \n16      1004       0.0           2.0           No         578          ALQ   \n17      1296       0.0           2.0         None           0         None   \n18      1114       NaN           NaN           No         646          GLQ   \n19      1339       0.0           3.0           No         504          LwQ   \n\n    BsmtUnfSF  EnclosedPorch  GarageArea GarageFinish  GarageYrBlt  GrLivArea  \\\n0         150            0.0         548          RFn       2003.0       1710   \n1         284            NaN         460          RFn       1976.0       1262   \n2         434            0.0         608          RFn       2001.0       1786   \n3         540            NaN         642          Unf       1998.0       1717   \n4         490            0.0         836          RFn       2000.0       2198   \n5          64            NaN         480          Unf       1993.0       1362   \n6         317            NaN         636          RFn       2004.0       1694   \n7         216            NaN         484          NaN       1973.0       2090   \n8         952            NaN         468          Unf       1931.0       1774   \n9         140            NaN         205          RFn       1939.0       1077   \n10        134            NaN         384          Unf       1965.0       1040   \n11        177            NaN         736          Fin       2005.0       2324   \n12        175            NaN         352          NaN       1962.0        912   \n13       1494            NaN         840          RFn       2006.0       1494   \n14        520            NaN         352          RFn       1960.0       1253   \n15        832            NaN         576          Unf       1991.0        854   \n16        426            NaN         480          Fin       1970.0       1004   \n17          0            NaN         516          Unf       1967.0       1296   \n18        468            NaN         576          Unf       2004.0       1114   \n19        525            NaN         294          Unf       1958.0       1339   \n\n   KitchenQual  LotArea  LotFrontage  MasVnrArea  OpenPorchSF  OverallCond  \\\n0           Gd     8450         65.0       196.0           61            5   \n1           TA     9600         80.0         0.0            0            8   \n2           Gd    11250         68.0       162.0           42            5   \n3           Gd     9550         60.0         0.0           35            5   \n4           Gd    14260         84.0       350.0           84            5   \n5           TA    14115         85.0         0.0           30            5   \n6           Gd    10084         75.0       186.0           57            5   \n7           TA    10382          NaN       240.0          204            6   \n8           TA     6120         51.0         0.0            0            5   \n9           TA     7420         50.0         0.0            4            6   \n10          TA    11200         70.0         0.0            0            5   \n11          Ex    11924         85.0       286.0           21            5   \n12          TA    12968          NaN         0.0            0            6   \n13          Gd    10652         91.0       306.0           33            5   \n14          TA    10920          NaN       212.0          213            5   \n15          TA     6120         51.0         0.0          112            8   \n16          TA    11241          NaN       180.0            0            7   \n17          TA    10791         72.0         0.0            0            5   \n18          Gd    13695         66.0         0.0          102            5   \n19          TA     7560         70.0         0.0            0            6   \n\n    OverallQual  TotalBsmtSF  WoodDeckSF  YearBuilt  YearRemodAdd  SalePrice  \n0             7          856         0.0       2003          2003     208500  \n1             6         1262         NaN       1976          1976     181500  \n2             7          920         NaN       2001          2002     223500  \n3             7          756         NaN       1915          1970     140000  \n4             8         1145         NaN       2000          2000     250000  \n5             5          796         NaN       1993          1995     143000  \n6             8         1686         NaN       2004          2005     307000  \n7             7         1107         NaN       1973          1973     200000  \n8             7          952         NaN       1931          1950     129900  \n9             5          991         NaN       1939          1950     118000  \n10            5         1040         NaN       1965          1965     129500  \n11            9         1175         NaN       2005          2006     345000  \n12            5          912         NaN       1962          1962     144000  \n13            7         1494       160.0       2006          2007     279500  \n14            6         1253         NaN       1960          1960     157000  \n15            7          832         NaN       1929          2001     132000  \n16            6         1004         NaN       1970          1970     149000  \n17            4            0         NaN       1967          1967      90000  \n18            5         1114         NaN       2004          2004     159000  \n19            5         1029         NaN       1958          1965     139000  ",
            "text/html": "<div>\n<style scoped>\n    .dataframe tbody tr th:only-of-type {\n        vertical-align: middle;\n    }\n\n    .dataframe tbody tr th {\n        vertical-align: top;\n    }\n\n    .dataframe thead th {\n        text-align: right;\n    }\n</style>\n<table border=\"1\" class=\"dataframe\">\n  <thead>\n    <tr style=\"text-align: right;\">\n      <th></th>\n      <th>1stFlrSF</th>\n      <th>2ndFlrSF</th>\n      <th>BedroomAbvGr</th>\n      <th>BsmtExposure</th>\n      <th>BsmtFinSF1</th>\n      <th>BsmtFinType1</th>\n      <th>BsmtUnfSF</th>\n      <th>EnclosedPorch</th>\n      <th>GarageArea</th>\n      <th>GarageFinish</th>\n      <th>GarageYrBlt</th>\n      <th>GrLivArea</th>\n      <th>KitchenQual</th>\n      <th>LotArea</th>\n      <th>LotFrontage</th>\n      <th>MasVnrArea</th>\n      <th>OpenPorchSF</th>\n      <th>OverallCond</th>\n      <th>OverallQual</th>\n      <th>TotalBsmtSF</th>\n      <th>WoodDeckSF</th>\n      <th>YearBuilt</th>\n      <th>YearRemodAdd</th>\n      <th>SalePrice</th>\n    </tr>\n  </thead>\n  <tbody>\n    <tr>\n      <th>0</th>\n      <td>856</td>\n      <td>854.0</td>\n      <td>3.0</td>\n      <td>No</td>\n      <td>706</td>\n      <td>GLQ</td>\n      <td>150</td>\n      <td>0.0</td>\n      <td>548</td>\n      <td>RFn</td>\n      <td>2003.0</td>\n      <td>1710</td>\n      <td>Gd</td>\n      <td>8450</td>\n      <td>65.0</td>\n      <td>196.0</td>\n      <td>61</td>\n      <td>5</td>\n      <td>7</td>\n      <td>856</td>\n      <td>0.0</td>\n      <td>2003</td>\n      <td>2003</td>\n      <td>208500</td>\n    </tr>\n    <tr>\n      <th>1</th>\n      <td>1262</td>\n      <td>0.0</td>\n      <td>3.0</td>\n      <td>Gd</td>\n      <td>978</td>\n      <td>ALQ</td>\n      <td>284</td>\n      <td>NaN</td>\n      <td>460</td>\n      <td>RFn</td>\n      <td>1976.0</td>\n      <td>1262</td>\n      <td>TA</td>\n      <td>9600</td>\n      <td>80.0</td>\n      <td>0.0</td>\n      <td>0</td>\n      <td>8</td>\n      <td>6</td>\n      <td>1262</td>\n      <td>NaN</td>\n      <td>1976</td>\n      <td>1976</td>\n      <td>181500</td>\n    </tr>\n    <tr>\n      <th>2</th>\n      <td>920</td>\n      <td>866.0</td>\n      <td>3.0</td>\n      <td>Mn</td>\n      <td>486</td>\n      <td>GLQ</td>\n      <td>434</td>\n      <td>0.0</td>\n      <td>608</td>\n      <td>RFn</td>\n      <td>2001.0</td>\n      <td>1786</td>\n      <td>Gd</td>\n      <td>11250</td>\n      <td>68.0</td>\n      <td>162.0</td>\n      <td>42</td>\n      <td>5</td>\n      <td>7</td>\n      <td>920</td>\n      <td>NaN</td>\n      <td>2001</td>\n      <td>2002</td>\n      <td>223500</td>\n    </tr>\n    <tr>\n      <th>3</th>\n      <td>961</td>\n      <td>NaN</td>\n      <td>NaN</td>\n      <td>No</td>\n      <td>216</td>\n      <td>ALQ</td>\n      <td>540</td>\n      <td>NaN</td>\n      <td>642</td>\n      <td>Unf</td>\n      <td>1998.0</td>\n      <td>1717</td>\n      <td>Gd</td>\n      <td>9550</td>\n      <td>60.0</td>\n      <td>0.0</td>\n      <td>35</td>\n      <td>5</td>\n      <td>7</td>\n      <td>756</td>\n      <td>NaN</td>\n      <td>1915</td>\n      <td>1970</td>\n      <td>140000</td>\n    </tr>\n    <tr>\n      <th>4</th>\n      <td>1145</td>\n      <td>NaN</td>\n      <td>4.0</td>\n      <td>Av</td>\n      <td>655</td>\n      <td>GLQ</td>\n      <td>490</td>\n      <td>0.0</td>\n      <td>836</td>\n      <td>RFn</td>\n      <td>2000.0</td>\n      <td>2198</td>\n      <td>Gd</td>\n      <td>14260</td>\n      <td>84.0</td>\n      <td>350.0</td>\n      <td>84</td>\n      <td>5</td>\n      <td>8</td>\n      <td>1145</td>\n      <td>NaN</td>\n      <td>2000</td>\n      <td>2000</td>\n      <td>250000</td>\n    </tr>\n    <tr>\n      <th>5</th>\n      <td>796</td>\n      <td>566.0</td>\n      <td>1.0</td>\n      <td>No</td>\n      <td>732</td>\n      <td>GLQ</td>\n      <td>64</td>\n      <td>NaN</td>\n      <td>480</td>\n      <td>Unf</td>\n      <td>1993.0</td>\n      <td>1362</td>\n      <td>TA</td>\n      <td>14115</td>\n      <td>85.0</td>\n      <td>0.0</td>\n      <td>30</td>\n      <td>5</td>\n      <td>5</td>\n      <td>796</td>\n      <td>NaN</td>\n      <td>1993</td>\n      <td>1995</td>\n      <td>143000</td>\n    </tr>\n    <tr>\n      <th>6</th>\n      <td>1694</td>\n      <td>0.0</td>\n      <td>3.0</td>\n      <td>Av</td>\n      <td>1369</td>\n      <td>GLQ</td>\n      <td>317</td>\n      <td>NaN</td>\n      <td>636</td>\n      <td>RFn</td>\n      <td>2004.0</td>\n      <td>1694</td>\n      <td>Gd</td>\n      <td>10084</td>\n      <td>75.0</td>\n      <td>186.0</td>\n      <td>57</td>\n      <td>5</td>\n      <td>8</td>\n      <td>1686</td>\n      <td>NaN</td>\n      <td>2004</td>\n      <td>2005</td>\n      <td>307000</td>\n    </tr>\n    <tr>\n      <th>7</th>\n      <td>1107</td>\n      <td>983.0</td>\n      <td>3.0</td>\n      <td>Mn</td>\n      <td>859</td>\n      <td>ALQ</td>\n      <td>216</td>\n      <td>NaN</td>\n      <td>484</td>\n      <td>NaN</td>\n      <td>1973.0</td>\n      <td>2090</td>\n      <td>TA</td>\n      <td>10382</td>\n      <td>NaN</td>\n      <td>240.0</td>\n      <td>204</td>\n      <td>6</td>\n      <td>7</td>\n      <td>1107</td>\n      <td>NaN</td>\n      <td>1973</td>\n      <td>1973</td>\n      <td>200000</td>\n    </tr>\n    <tr>\n      <th>8</th>\n      <td>1022</td>\n      <td>752.0</td>\n      <td>2.0</td>\n      <td>No</td>\n      <td>0</td>\n      <td>Unf</td>\n      <td>952</td>\n      <td>NaN</td>\n      <td>468</td>\n      <td>Unf</td>\n      <td>1931.0</td>\n      <td>1774</td>\n      <td>TA</td>\n      <td>6120</td>\n      <td>51.0</td>\n      <td>0.0</td>\n      <td>0</td>\n      <td>5</td>\n      <td>7</td>\n      <td>952</td>\n      <td>NaN</td>\n      <td>1931</td>\n      <td>1950</td>\n      <td>129900</td>\n    </tr>\n    <tr>\n      <th>9</th>\n      <td>1077</td>\n      <td>0.0</td>\n      <td>2.0</td>\n      <td>No</td>\n      <td>851</td>\n      <td>GLQ</td>\n      <td>140</td>\n      <td>NaN</td>\n      <td>205</td>\n      <td>RFn</td>\n      <td>1939.0</td>\n      <td>1077</td>\n      <td>TA</td>\n      <td>7420</td>\n      <td>50.0</td>\n      <td>0.0</td>\n      <td>4</td>\n      <td>6</td>\n      <td>5</td>\n      <td>991</td>\n      <td>NaN</td>\n      <td>1939</td>\n      <td>1950</td>\n      <td>118000</td>\n    </tr>\n    <tr>\n      <th>10</th>\n      <td>1040</td>\n      <td>0.0</td>\n      <td>3.0</td>\n      <td>No</td>\n      <td>906</td>\n      <td>Rec</td>\n      <td>134</td>\n      <td>NaN</td>\n      <td>384</td>\n      <td>Unf</td>\n      <td>1965.0</td>\n      <td>1040</td>\n      <td>TA</td>\n      <td>11200</td>\n      <td>70.0</td>\n      <td>0.0</td>\n      <td>0</td>\n      <td>5</td>\n      <td>5</td>\n      <td>1040</td>\n      <td>NaN</td>\n      <td>1965</td>\n      <td>1965</td>\n      <td>129500</td>\n    </tr>\n    <tr>\n      <th>11</th>\n      <td>1182</td>\n      <td>1142.0</td>\n      <td>4.0</td>\n      <td>No</td>\n      <td>998</td>\n      <td>NaN</td>\n      <td>177</td>\n      <td>NaN</td>\n      <td>736</td>\n      <td>Fin</td>\n      <td>2005.0</td>\n      <td>2324</td>\n      <td>Ex</td>\n      <td>11924</td>\n      <td>85.0</td>\n      <td>286.0</td>\n      <td>21</td>\n      <td>5</td>\n      <td>9</td>\n      <td>1175</td>\n      <td>NaN</td>\n      <td>2005</td>\n      <td>2006</td>\n      <td>345000</td>\n    </tr>\n    <tr>\n      <th>12</th>\n      <td>912</td>\n      <td>0.0</td>\n      <td>2.0</td>\n      <td>No</td>\n      <td>737</td>\n      <td>ALQ</td>\n      <td>175</td>\n      <td>NaN</td>\n      <td>352</td>\n      <td>NaN</td>\n      <td>1962.0</td>\n      <td>912</td>\n      <td>TA</td>\n      <td>12968</td>\n      <td>NaN</td>\n      <td>0.0</td>\n      <td>0</td>\n      <td>6</td>\n      <td>5</td>\n      <td>912</td>\n      <td>NaN</td>\n      <td>1962</td>\n      <td>1962</td>\n      <td>144000</td>\n    </tr>\n    <tr>\n      <th>13</th>\n      <td>1494</td>\n      <td>0.0</td>\n      <td>3.0</td>\n      <td>Av</td>\n      <td>0</td>\n      <td>Unf</td>\n      <td>1494</td>\n      <td>NaN</td>\n      <td>840</td>\n      <td>RFn</td>\n      <td>2006.0</td>\n      <td>1494</td>\n      <td>Gd</td>\n      <td>10652</td>\n      <td>91.0</td>\n      <td>306.0</td>\n      <td>33</td>\n      <td>5</td>\n      <td>7</td>\n      <td>1494</td>\n      <td>160.0</td>\n      <td>2006</td>\n      <td>2007</td>\n      <td>279500</td>\n    </tr>\n    <tr>\n      <th>14</th>\n      <td>1253</td>\n      <td>0.0</td>\n      <td>NaN</td>\n      <td>No</td>\n      <td>733</td>\n      <td>BLQ</td>\n      <td>520</td>\n      <td>NaN</td>\n      <td>352</td>\n      <td>RFn</td>\n      <td>1960.0</td>\n      <td>1253</td>\n      <td>TA</td>\n      <td>10920</td>\n      <td>NaN</td>\n      <td>212.0</td>\n      <td>213</td>\n      <td>5</td>\n      <td>6</td>\n      <td>1253</td>\n      <td>NaN</td>\n      <td>1960</td>\n      <td>1960</td>\n      <td>157000</td>\n    </tr>\n    <tr>\n      <th>15</th>\n      <td>854</td>\n      <td>0.0</td>\n      <td>2.0</td>\n      <td>No</td>\n      <td>0</td>\n      <td>Unf</td>\n      <td>832</td>\n      <td>NaN</td>\n      <td>576</td>\n      <td>Unf</td>\n      <td>1991.0</td>\n      <td>854</td>\n      <td>TA</td>\n      <td>6120</td>\n      <td>51.0</td>\n      <td>0.0</td>\n      <td>112</td>\n      <td>8</td>\n      <td>7</td>\n      <td>832</td>\n      <td>NaN</td>\n      <td>1929</td>\n      <td>2001</td>\n      <td>132000</td>\n    </tr>\n    <tr>\n      <th>16</th>\n      <td>1004</td>\n      <td>0.0</td>\n      <td>2.0</td>\n      <td>No</td>\n      <td>578</td>\n      <td>ALQ</td>\n      <td>426</td>\n      <td>NaN</td>\n      <td>480</td>\n      <td>Fin</td>\n      <td>1970.0</td>\n      <td>1004</td>\n      <td>TA</td>\n      <td>11241</td>\n      <td>NaN</td>\n      <td>180.0</td>\n      <td>0</td>\n      <td>7</td>\n      <td>6</td>\n      <td>1004</td>\n      <td>NaN</td>\n      <td>1970</td>\n      <td>1970</td>\n      <td>149000</td>\n    </tr>\n    <tr>\n      <th>17</th>\n      <td>1296</td>\n      <td>0.0</td>\n      <td>2.0</td>\n      <td>None</td>\n      <td>0</td>\n      <td>None</td>\n      <td>0</td>\n      <td>NaN</td>\n      <td>516</td>\n      <td>Unf</td>\n      <td>1967.0</td>\n      <td>1296</td>\n      <td>TA</td>\n      <td>10791</td>\n      <td>72.0</td>\n      <td>0.0</td>\n      <td>0</td>\n      <td>5</td>\n      <td>4</td>\n      <td>0</td>\n      <td>NaN</td>\n      <td>1967</td>\n      <td>1967</td>\n      <td>90000</td>\n    </tr>\n    <tr>\n      <th>18</th>\n      <td>1114</td>\n      <td>NaN</td>\n      <td>NaN</td>\n      <td>No</td>\n      <td>646</td>\n      <td>GLQ</td>\n      <td>468</td>\n      <td>NaN</td>\n      <td>576</td>\n      <td>Unf</td>\n      <td>2004.0</td>\n      <td>1114</td>\n      <td>Gd</td>\n      <td>13695</td>\n      <td>66.0</td>\n      <td>0.0</td>\n      <td>102</td>\n      <td>5</td>\n      <td>5</td>\n      <td>1114</td>\n      <td>NaN</td>\n      <td>2004</td>\n      <td>2004</td>\n      <td>159000</td>\n    </tr>\n    <tr>\n      <th>19</th>\n      <td>1339</td>\n      <td>0.0</td>\n      <td>3.0</td>\n      <td>No</td>\n      <td>504</td>\n      <td>LwQ</td>\n      <td>525</td>\n      <td>NaN</td>\n      <td>294</td>\n      <td>Unf</td>\n      <td>1958.0</td>\n      <td>1339</td>\n      <td>TA</td>\n      <td>7560</td>\n      <td>70.0</td>\n      <td>0.0</td>\n      <td>0</td>\n      <td>6</td>\n      <td>5</td>\n      <td>1029</td>\n      <td>NaN</td>\n      <td>1958</td>\n      <td>1965</td>\n      <td>139000</td>\n    </tr>\n  </tbody>\n</table>\n</div>"
          },
          "metadata": {},
          "execution_count": 32
        }
      ],
      "source": [
        "import pandas as pd\n",
        "import numpy as np\n",
        "df = pd.read_csv(f\"inputs/datasets/raw/house-price-20211124T154130Z-001/house-price/house_prices_records.csv\")\n",
        "pd.set_option('display.max_columns', None)\n",
        "df.head(20)"
      ]
    },
    {
      "cell_type": "code",
      "execution_count": 27,
      "metadata": {
        "tags": []
      },
      "outputs": [
        {
          "output_type": "stream",
          "name": "stdout",
          "text": "<class 'pandas.core.frame.DataFrame'>\nRangeIndex: 1460 entries, 0 to 1459\nData columns (total 24 columns):\n #   Column         Non-Null Count  Dtype \n---  ------         --------------  ----- \n 0   1stFlrSF       1460 non-null   int64 \n 1   2ndFlrSF       1460 non-null   int64 \n 2   BedroomAbvGr   1460 non-null   int64 \n 3   BsmtExposure   1460 non-null   object\n 4   BsmtFinSF1     1460 non-null   int64 \n 5   BsmtFinType1   1460 non-null   object\n 6   BsmtUnfSF      1460 non-null   int64 \n 7   EnclosedPorch  1460 non-null   int64 \n 8   GarageArea     1460 non-null   int64 \n 9   GarageFinish   1460 non-null   object\n 10  GarageYrBlt    1460 non-null   int64 \n 11  GrLivArea      1460 non-null   int64 \n 12  KitchenQual    1460 non-null   object\n 13  LotArea        1460 non-null   int64 \n 14  LotFrontage    1460 non-null   int64 \n 15  MasVnrArea     1460 non-null   int64 \n 16  OpenPorchSF    1460 non-null   int64 \n 17  OverallCond    1460 non-null   int64 \n 18  OverallQual    1460 non-null   int64 \n 19  TotalBsmtSF    1460 non-null   int64 \n 20  WoodDeckSF     1460 non-null   int64 \n 21  YearBuilt      1460 non-null   int64 \n 22  YearRemodAdd   1460 non-null   int64 \n 23  SalePrice      1460 non-null   int64 \ndtypes: int64(20), object(4)\nmemory usage: 273.9+ KB\n"
        }
      ],
      "source": [
        "df.info()"
      ]
    },
    {
      "source": [
        "DF cleaning suggestions\n",
        "\n",
        "- replace all NaN values with 0\n",
        "- convert all floats to ints\n",
        "- convert all NaN and None string(object) values to No\n",
        "- convert all No values in GarageFinish to Unf\n",
        "- replace NaN in GarageYrBlt with YearBuilt from same row\n"
      ],
      "cell_type": "markdown",
      "metadata": {}
    },
    {
      "cell_type": "code",
      "execution_count": 34,
      "metadata": {},
      "outputs": [],
      "source": [
        "# select only number columns with float data type\n",
        "number_cols = df.select_dtypes(include=['float']).columns\n",
        "\n",
        "# fill missing values with 0\n",
        "df[number_cols] = df[number_cols].fillna(0)\n",
        "\n",
        "# convert float values to ints\n",
        "df[number_cols] = df[number_cols].astype(int)\n",
        "\n",
        "# replace NaN values with 'No'\n",
        "df = df.fillna('No')\n",
        "\n",
        "# replace empty string values with 'No'\n",
        "df = df.replace('', 'No')\n",
        "\n",
        "# fill NaN values in GarageYrBlt with YearBuilt from same row\n",
        "df['GarageYrBlt'] = df.apply(lambda row: row['YearBuilt'] if np.isnan(row['GarageYrBlt']) else row['GarageYrBlt'], axis=1)\n"
      ]
    },
    {
      "source": [
        "-----"
      ],
      "cell_type": "markdown",
      "metadata": {}
    },
    {
      "source": [
        "## Inherited Houses Data"
      ],
      "cell_type": "markdown",
      "metadata": {}
    },
    {
      "cell_type": "code",
      "execution_count": 33,
      "metadata": {},
      "outputs": [
        {
          "output_type": "execute_result",
          "data": {
            "text/plain": "   1stFlrSF  2ndFlrSF  BedroomAbvGr BsmtExposure  BsmtFinSF1 BsmtFinType1  \\\n0       896         0             2           No       468.0          Rec   \n1      1329         0             3           No       923.0          ALQ   \n2       928       701             3           No       791.0          GLQ   \n3       926       678             3           No       602.0          GLQ   \n\n   BsmtUnfSF  EnclosedPorch  GarageArea GarageFinish  GarageYrBlt  GrLivArea  \\\n0      270.0              0       730.0          Unf       1961.0        896   \n1      406.0              0       312.0          Unf       1958.0       1329   \n2      137.0              0       482.0          Fin       1997.0       1629   \n3      324.0              0       470.0          Fin       1998.0       1604   \n\n  KitchenQual  LotArea  LotFrontage  MasVnrArea  OpenPorchSF  OverallCond  \\\n0          TA    11622         80.0         0.0            0            6   \n1          Gd    14267         81.0       108.0           36            6   \n2          TA    13830         74.0         0.0           34            5   \n3          Gd     9978         78.0        20.0           36            6   \n\n   OverallQual  TotalBsmtSF  WoodDeckSF  YearBuilt  YearRemodAdd  \n0            5        882.0         140       1961          1961  \n1            6       1329.0         393       1958          1958  \n2            5        928.0         212       1997          1998  \n3            6        926.0         360       1998          1998  ",
            "text/html": "<div>\n<style scoped>\n    .dataframe tbody tr th:only-of-type {\n        vertical-align: middle;\n    }\n\n    .dataframe tbody tr th {\n        vertical-align: top;\n    }\n\n    .dataframe thead th {\n        text-align: right;\n    }\n</style>\n<table border=\"1\" class=\"dataframe\">\n  <thead>\n    <tr style=\"text-align: right;\">\n      <th></th>\n      <th>1stFlrSF</th>\n      <th>2ndFlrSF</th>\n      <th>BedroomAbvGr</th>\n      <th>BsmtExposure</th>\n      <th>BsmtFinSF1</th>\n      <th>BsmtFinType1</th>\n      <th>BsmtUnfSF</th>\n      <th>EnclosedPorch</th>\n      <th>GarageArea</th>\n      <th>GarageFinish</th>\n      <th>GarageYrBlt</th>\n      <th>GrLivArea</th>\n      <th>KitchenQual</th>\n      <th>LotArea</th>\n      <th>LotFrontage</th>\n      <th>MasVnrArea</th>\n      <th>OpenPorchSF</th>\n      <th>OverallCond</th>\n      <th>OverallQual</th>\n      <th>TotalBsmtSF</th>\n      <th>WoodDeckSF</th>\n      <th>YearBuilt</th>\n      <th>YearRemodAdd</th>\n    </tr>\n  </thead>\n  <tbody>\n    <tr>\n      <th>0</th>\n      <td>896</td>\n      <td>0</td>\n      <td>2</td>\n      <td>No</td>\n      <td>468.0</td>\n      <td>Rec</td>\n      <td>270.0</td>\n      <td>0</td>\n      <td>730.0</td>\n      <td>Unf</td>\n      <td>1961.0</td>\n      <td>896</td>\n      <td>TA</td>\n      <td>11622</td>\n      <td>80.0</td>\n      <td>0.0</td>\n      <td>0</td>\n      <td>6</td>\n      <td>5</td>\n      <td>882.0</td>\n      <td>140</td>\n      <td>1961</td>\n      <td>1961</td>\n    </tr>\n    <tr>\n      <th>1</th>\n      <td>1329</td>\n      <td>0</td>\n      <td>3</td>\n      <td>No</td>\n      <td>923.0</td>\n      <td>ALQ</td>\n      <td>406.0</td>\n      <td>0</td>\n      <td>312.0</td>\n      <td>Unf</td>\n      <td>1958.0</td>\n      <td>1329</td>\n      <td>Gd</td>\n      <td>14267</td>\n      <td>81.0</td>\n      <td>108.0</td>\n      <td>36</td>\n      <td>6</td>\n      <td>6</td>\n      <td>1329.0</td>\n      <td>393</td>\n      <td>1958</td>\n      <td>1958</td>\n    </tr>\n    <tr>\n      <th>2</th>\n      <td>928</td>\n      <td>701</td>\n      <td>3</td>\n      <td>No</td>\n      <td>791.0</td>\n      <td>GLQ</td>\n      <td>137.0</td>\n      <td>0</td>\n      <td>482.0</td>\n      <td>Fin</td>\n      <td>1997.0</td>\n      <td>1629</td>\n      <td>TA</td>\n      <td>13830</td>\n      <td>74.0</td>\n      <td>0.0</td>\n      <td>34</td>\n      <td>5</td>\n      <td>5</td>\n      <td>928.0</td>\n      <td>212</td>\n      <td>1997</td>\n      <td>1998</td>\n    </tr>\n    <tr>\n      <th>3</th>\n      <td>926</td>\n      <td>678</td>\n      <td>3</td>\n      <td>No</td>\n      <td>602.0</td>\n      <td>GLQ</td>\n      <td>324.0</td>\n      <td>0</td>\n      <td>470.0</td>\n      <td>Fin</td>\n      <td>1998.0</td>\n      <td>1604</td>\n      <td>Gd</td>\n      <td>9978</td>\n      <td>78.0</td>\n      <td>20.0</td>\n      <td>36</td>\n      <td>6</td>\n      <td>6</td>\n      <td>926.0</td>\n      <td>360</td>\n      <td>1998</td>\n      <td>1998</td>\n    </tr>\n  </tbody>\n</table>\n</div>"
          },
          "metadata": {},
          "execution_count": 33
        }
      ],
      "source": [
        "import pandas as pd\n",
        "df2 = pd.read_csv(f\"inputs/datasets/raw/house-price-20211124T154130Z-001/house-price/inherited_houses.csv\")\n",
        "pd.set_option('display.max_columns', None)\n",
        "df2.head()\n"
      ]
    },
    {
      "source": [
        "DF2 Cleaning suggestions\n",
        "- convert all float values to ints\n",
        "- add column 'YearRemodAdd', fill with 'YearBuilt' value"
      ],
      "cell_type": "markdown",
      "metadata": {}
    },
    {
      "cell_type": "code",
      "execution_count": 35,
      "metadata": {},
      "outputs": [],
      "source": [
        "# select only number columns with float data type\n",
        "number_cols_2 = df2.select_dtypes(include=['float']).columns\n",
        "\n",
        "# convert float values to ints\n",
        "df2[number_cols_2] = df[number_cols_2].astype(int)\n",
        "\n",
        "# make a new column named 'YearRemodAdd' and fill it with the 'YearBuilt' values.\n",
        "df2['YearRemodAdd'] = df2['YearBuilt']"
      ]
    },
    {
      "cell_type": "markdown",
      "metadata": {},
      "source": [
        "---"
      ]
    },
    {
      "cell_type": "markdown",
      "metadata": {
        "id": "ltNetd085qHf"
      },
      "source": [
        "# Push files to Repo"
      ]
    },
    {
      "cell_type": "code",
      "execution_count": 36,
      "metadata": {
        "id": "aKlnIozA4eQO",
        "outputId": "fd09bc1f-adb1-4511-f6ce-492a6af570c0",
        "tags": []
      },
      "outputs": [
        {
          "output_type": "stream",
          "name": "stdout",
          "text": "[Errno 17] File exists: 'outputs/datasets/collection'\n"
        }
      ],
      "source": [
        "import os\n",
        "try:\n",
        "  os.makedirs(name='outputs/datasets/collection') # create outputs/datasets/collection folder\n",
        "except Exception as e:\n",
        "  print(e)\n",
        "\n",
        "df.to_csv(f\"outputs/datasets/collection/house_prices_records.csv\",index=False)\n",
        "df2.to_csv(f\"outputs/datasets/collection/inherited_houses.csv\",index=False)"
      ]
    }
  ],
  "metadata": {
    "accelerator": "GPU",
    "colab": {
      "name": "Data Practitioner Jupyter Notebook.ipynb",
      "provenance": [],
      "toc_visible": true
    },
    "interpreter": {
      "hash": "8b8334dab9339717f727a1deaf837b322d7a41c20d15cc86be99a8e69ceec8ce"
    },
    "kernelspec": {
      "display_name": "Python 3.8.12 64-bit ('3.8.12': pyenv)",
      "name": "python381264bit3812pyenvb9cb1d9bde2b40e988243ec48168ac55"
    },
    "language_info": {
      "codemirror_mode": {
        "name": "ipython",
        "version": 3
      },
      "file_extension": ".py",
      "mimetype": "text/x-python",
      "name": "python",
      "nbconvert_exporter": "python",
      "pygments_lexer": "ipython3",
      "version": "3.8.12-final"
    },
    "orig_nbformat": 2
  },
  "nbformat": 4,
  "nbformat_minor": 2
}